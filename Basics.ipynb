{
  "nbformat": 4,
  "nbformat_minor": 0,
  "metadata": {
    "colab": {
      "provenance": [],
      "authorship_tag": "ABX9TyO+hWNcWIWGk1Aop9yDL/rB",
      "include_colab_link": true
    },
    "kernelspec": {
      "name": "python3",
      "display_name": "Python 3"
    },
    "language_info": {
      "name": "python"
    }
  },
  "cells": [
    {
      "cell_type": "markdown",
      "metadata": {
        "id": "view-in-github",
        "colab_type": "text"
      },
      "source": [
        "<a href=\"https://colab.research.google.com/github/abhishekkm8088/Pyspark-Abhi/blob/main/Basics.ipynb\" target=\"_parent\"><img src=\"https://colab.research.google.com/assets/colab-badge.svg\" alt=\"Open In Colab\"/></a>"
      ]
    },
    {
      "cell_type": "code",
      "execution_count": 2,
      "metadata": {
        "colab": {
          "base_uri": "https://localhost:8080/"
        },
        "id": "YXEKzV41d6RO",
        "outputId": "9cf4bf6d-8b6a-452e-d7e2-dcdbceb5adde"
      },
      "outputs": [
        {
          "output_type": "stream",
          "name": "stdout",
          "text": [
            "hello world\n"
          ]
        }
      ],
      "source": [
        "print(\"hello world\")\n"
      ]
    },
    {
      "cell_type": "markdown",
      "source": [],
      "metadata": {
        "id": "5td_t7mdsm7o"
      }
    },
    {
      "cell_type": "markdown",
      "source": [
        "##LINUX BASIC"
      ],
      "metadata": {
        "id": "zJo0cUMYrEQv"
      }
    },
    {
      "cell_type": "markdown",
      "source": [],
      "metadata": {
        "id": "5o2UlnBErFcC"
      }
    },
    {
      "cell_type": "markdown",
      "source": [],
      "metadata": {
        "id": "19vA2OfgrEsH"
      }
    },
    {
      "cell_type": "code",
      "source": [
        "!cat /etc/os-release\n",
        "!uname -a\n"
      ],
      "metadata": {
        "colab": {
          "base_uri": "https://localhost:8080/"
        },
        "id": "O4XhMjW2qEfi",
        "outputId": "af0f0f14-e59b-4aa1-9475-da026eff06ae"
      },
      "execution_count": 11,
      "outputs": [
        {
          "output_type": "stream",
          "name": "stdout",
          "text": [
            "PRETTY_NAME=\"Ubuntu 22.04.4 LTS\"\n",
            "NAME=\"Ubuntu\"\n",
            "VERSION_ID=\"22.04\"\n",
            "VERSION=\"22.04.4 LTS (Jammy Jellyfish)\"\n",
            "VERSION_CODENAME=jammy\n",
            "ID=ubuntu\n",
            "ID_LIKE=debian\n",
            "HOME_URL=\"https://www.ubuntu.com/\"\n",
            "SUPPORT_URL=\"https://help.ubuntu.com/\"\n",
            "BUG_REPORT_URL=\"https://bugs.launchpad.net/ubuntu/\"\n",
            "PRIVACY_POLICY_URL=\"https://www.ubuntu.com/legal/terms-and-policies/privacy-policy\"\n",
            "UBUNTU_CODENAME=jammy\n",
            "Linux ff3c83f75672 6.1.123+ #1 SMP PREEMPT_DYNAMIC Sun Mar 30 16:01:29 UTC 2025 x86_64 x86_64 x86_64 GNU/Linux\n"
          ]
        }
      ]
    },
    {
      "cell_type": "code",
      "source": [
        "!pwd\n"
      ],
      "metadata": {
        "colab": {
          "base_uri": "https://localhost:8080/"
        },
        "id": "-P3iba9HqBJw",
        "outputId": "a22fa543-d093-43b7-a69e-df70e1737742"
      },
      "execution_count": 13,
      "outputs": [
        {
          "output_type": "stream",
          "name": "stdout",
          "text": [
            "/content\n"
          ]
        }
      ]
    },
    {
      "cell_type": "code",
      "source": [
        "!whoami"
      ],
      "metadata": {
        "colab": {
          "base_uri": "https://localhost:8080/"
        },
        "id": "OPkcl8wLqk43",
        "outputId": "5225fd8b-af41-4b4e-8261-3084ed515f0f"
      },
      "execution_count": 14,
      "outputs": [
        {
          "output_type": "stream",
          "name": "stdout",
          "text": [
            "root\n"
          ]
        }
      ]
    },
    {
      "cell_type": "markdown",
      "source": [
        "##Pyspark Basics and dataframes"
      ],
      "metadata": {
        "id": "aQIXhbRwuHk_"
      }
    },
    {
      "cell_type": "code",
      "source": [
        "pip install pyspark\n"
      ],
      "metadata": {
        "colab": {
          "base_uri": "https://localhost:8080/"
        },
        "id": "lXSdWnIfuNk-",
        "outputId": "5949bc3a-4db4-49e8-a34c-e52a6c00c062"
      },
      "execution_count": 17,
      "outputs": [
        {
          "output_type": "stream",
          "name": "stdout",
          "text": [
            "Requirement already satisfied: pyspark in /usr/local/lib/python3.11/dist-packages (3.5.1)\n",
            "Requirement already satisfied: py4j==0.10.9.7 in /usr/local/lib/python3.11/dist-packages (from pyspark) (0.10.9.7)\n"
          ]
        }
      ]
    },
    {
      "cell_type": "code",
      "source": [
        "from pyspark.sql import SparkSession"
      ],
      "metadata": {
        "id": "a5HaNRrLucrX"
      },
      "execution_count": 19,
      "outputs": []
    },
    {
      "cell_type": "code",
      "source": [
        "spark = SparkSession.builder.appName(\"Basics\").getOrCreate()"
      ],
      "metadata": {
        "id": "DjN7FkLTuz8b"
      },
      "execution_count": 21,
      "outputs": []
    },
    {
      "cell_type": "code",
      "source": [
        "#create Dataframes\n",
        "data =[(\"hello\", \"world\")]\n",
        "columns = [\"word1\", \"word2\"]\n",
        "\n",
        "df = spark.createDataFrame(data, columns)"
      ],
      "metadata": {
        "id": "QwIAJ2VPvBed"
      },
      "execution_count": 26,
      "outputs": []
    },
    {
      "cell_type": "code",
      "source": [
        "df.show()"
      ],
      "metadata": {
        "colab": {
          "base_uri": "https://localhost:8080/"
        },
        "id": "loCZnk_hvsoZ",
        "outputId": "88b4297f-678a-4955-ce1c-d1b144daf3b7"
      },
      "execution_count": 28,
      "outputs": [
        {
          "output_type": "stream",
          "name": "stdout",
          "text": [
            "+-----+-----+\n",
            "|word1|word2|\n",
            "+-----+-----+\n",
            "|hello|world|\n",
            "+-----+-----+\n",
            "\n"
          ]
        }
      ]
    },
    {
      "cell_type": "markdown",
      "source": [
        "##Basic Transformation and action"
      ],
      "metadata": {
        "id": "n_nNoSimwiC_"
      }
    },
    {
      "cell_type": "code",
      "source": [
        "columns = [\"name\", \"department\", \"salary\"]\n",
        "data = [\n",
        "    (\"John\", \"Sales\", 3000),\n",
        "    (\"Jane\", \"Finance\", 4000),\n",
        "    (\"Mike\", \"Sales\", 3500),\n",
        "    (\"Alice\", \"Finance\", 3800),\n",
        "    (\"Bob\", \"IT\", 4500)\n",
        "]\n",
        "df = spark.createDataFrame(data, columns)\n"
      ],
      "metadata": {
        "id": "sYYZMzOuwpBN"
      },
      "execution_count": 30,
      "outputs": []
    },
    {
      "cell_type": "code",
      "source": [
        "df.show()"
      ],
      "metadata": {
        "colab": {
          "base_uri": "https://localhost:8080/"
        },
        "id": "yTHFdYmGw-70",
        "outputId": "5a63a2e3-2e0f-4207-8f04-8e5c4f93180b"
      },
      "execution_count": 32,
      "outputs": [
        {
          "output_type": "stream",
          "name": "stdout",
          "text": [
            "+-----+----------+------+\n",
            "| name|department|salary|\n",
            "+-----+----------+------+\n",
            "| John|     Sales|  3000|\n",
            "| Jane|   Finance|  4000|\n",
            "| Mike|     Sales|  3500|\n",
            "|Alice|   Finance|  3800|\n",
            "|  Bob|        IT|  4500|\n",
            "+-----+----------+------+\n",
            "\n"
          ]
        }
      ]
    },
    {
      "cell_type": "code",
      "source": [
        "#filter: employees with salary > 3500\n",
        "df_filtered = df.filter(df.salary > 3500)\n",
        "df_filtered.show()"
      ],
      "metadata": {
        "colab": {
          "base_uri": "https://localhost:8080/"
        },
        "id": "LabmBRr_x8JR",
        "outputId": "a0d7034a-2b12-480d-fa16-4c2440773386"
      },
      "execution_count": 34,
      "outputs": [
        {
          "output_type": "stream",
          "name": "stdout",
          "text": [
            "+-----+----------+------+\n",
            "| name|department|salary|\n",
            "+-----+----------+------+\n",
            "| Jane|   Finance|  4000|\n",
            "|Alice|   Finance|  3800|\n",
            "|  Bob|        IT|  4500|\n",
            "+-----+----------+------+\n",
            "\n"
          ]
        }
      ]
    },
    {
      "cell_type": "code",
      "source": [
        "#GroupBY and Aggregate: Average salary by department\n",
        "df_agg = df.groupBy(\"department\").agg({\"salary\": \"avg\"})\n",
        "df_agg.show()"
      ],
      "metadata": {
        "colab": {
          "base_uri": "https://localhost:8080/"
        },
        "id": "LVmMuGKvyitY",
        "outputId": "2ac73eef-8f45-4386-854b-8f92bdbd1a01"
      },
      "execution_count": 36,
      "outputs": [
        {
          "output_type": "stream",
          "name": "stdout",
          "text": [
            "+----------+-----------+\n",
            "|department|avg(salary)|\n",
            "+----------+-----------+\n",
            "|     Sales|     3250.0|\n",
            "|   Finance|     3900.0|\n",
            "|        IT|     4500.0|\n",
            "+----------+-----------+\n",
            "\n"
          ]
        }
      ]
    },
    {
      "cell_type": "code",
      "source": [
        "# Add new column : salary with bonos (10%)\n",
        "from pyspark.sql.functions import col\n",
        "exp=col(\"salary\") * 1.1\n",
        "df_with_bonus = df.withColumn(\"salary_with_bonus\", exp)\n",
        "df_with_bonus.show()"
      ],
      "metadata": {
        "colab": {
          "base_uri": "https://localhost:8080/"
        },
        "id": "UU7ys6P-0KFw",
        "outputId": "a287bd55-3bad-4fe6-abc7-239cff748e71"
      },
      "execution_count": 40,
      "outputs": [
        {
          "output_type": "stream",
          "name": "stdout",
          "text": [
            "+-----+----------+------+------------------+\n",
            "| name|department|salary| salary_with_bonus|\n",
            "+-----+----------+------+------------------+\n",
            "| John|     Sales|  3000|3300.0000000000005|\n",
            "| Jane|   Finance|  4000|            4400.0|\n",
            "| Mike|     Sales|  3500|3850.0000000000005|\n",
            "|Alice|   Finance|  3800|            4180.0|\n",
            "|  Bob|        IT|  4500|            4950.0|\n",
            "+-----+----------+------+------------------+\n",
            "\n"
          ]
        }
      ]
    },
    {
      "cell_type": "code",
      "source": [
        "from pyspark.sql.functions import col,upper,lower,concat_ws,when\n",
        "\n",
        "df.show()"
      ],
      "metadata": {
        "colab": {
          "base_uri": "https://localhost:8080/"
        },
        "id": "JZ5eyOjZ0Tan",
        "outputId": "166ebc2a-b6a3-4508-959a-9ef001f1a0a2"
      },
      "execution_count": 42,
      "outputs": [
        {
          "output_type": "stream",
          "name": "stdout",
          "text": [
            "+-----+----------+------+\n",
            "| name|department|salary|\n",
            "+-----+----------+------+\n",
            "| John|     Sales|  3000|\n",
            "| Jane|   Finance|  4000|\n",
            "| Mike|     Sales|  3500|\n",
            "|Alice|   Finance|  3800|\n",
            "|  Bob|        IT|  4500|\n",
            "+-----+----------+------+\n",
            "\n"
          ]
        }
      ]
    },
    {
      "cell_type": "code",
      "source": [
        "#Change case Transformation\n",
        "df_upper = df.withColumn(\"name_upper\", upper(col(\"name\")))\n",
        "df.lower=df.withColumn(\"name_lower\", lower(col(\"name\")))\n",
        "df_upper.show()\n",
        "df.lower.show()"
      ],
      "metadata": {
        "colab": {
          "base_uri": "https://localhost:8080/"
        },
        "id": "o20Afhep2V3J",
        "outputId": "f6ed8643-a242-47df-8d3e-a401bf2a5abc"
      },
      "execution_count": 44,
      "outputs": [
        {
          "output_type": "stream",
          "name": "stdout",
          "text": [
            "+-----+----------+------+----------+\n",
            "| name|department|salary|name_upper|\n",
            "+-----+----------+------+----------+\n",
            "| John|     Sales|  3000|      JOHN|\n",
            "| Jane|   Finance|  4000|      JANE|\n",
            "| Mike|     Sales|  3500|      MIKE|\n",
            "|Alice|   Finance|  3800|     ALICE|\n",
            "|  Bob|        IT|  4500|       BOB|\n",
            "+-----+----------+------+----------+\n",
            "\n",
            "+-----+----------+------+----------+\n",
            "| name|department|salary|name_lower|\n",
            "+-----+----------+------+----------+\n",
            "| John|     Sales|  3000|      john|\n",
            "| Jane|   Finance|  4000|      jane|\n",
            "| Mike|     Sales|  3500|      mike|\n",
            "|Alice|   Finance|  3800|     alice|\n",
            "|  Bob|        IT|  4500|       bob|\n",
            "+-----+----------+------+----------+\n",
            "\n"
          ]
        }
      ]
    },
    {
      "cell_type": "code",
      "source": [
        "#concatenate columns\n",
        "df_concat = df.withColumn(\"name_department\", concat_ws(\" - \", col(\"name\"), col(\"department\")))\n",
        "df_concat.show()"
      ],
      "metadata": {
        "colab": {
          "base_uri": "https://localhost:8080/"
        },
        "id": "ofeHiGDc3DIS",
        "outputId": "e31132f8-0f91-44c9-e47f-bbf8d1b537be"
      },
      "execution_count": 46,
      "outputs": [
        {
          "output_type": "stream",
          "name": "stdout",
          "text": [
            "+-----+----------+------+---------------+\n",
            "| name|department|salary|name_department|\n",
            "+-----+----------+------+---------------+\n",
            "| John|     Sales|  3000|   John - Sales|\n",
            "| Jane|   Finance|  4000| Jane - Finance|\n",
            "| Mike|     Sales|  3500|   Mike - Sales|\n",
            "|Alice|   Finance|  3800|Alice - Finance|\n",
            "|  Bob|        IT|  4500|       Bob - IT|\n",
            "+-----+----------+------+---------------+\n",
            "\n"
          ]
        }
      ]
    },
    {
      "cell_type": "code",
      "source": [
        "#string length of names in new DF\n",
        "from pyspark.sql.functions import length\n",
        "df_length = df.withColumn(\"name_length\", length(col(\"name\")))\n",
        "df_length.show()"
      ],
      "metadata": {
        "colab": {
          "base_uri": "https://localhost:8080/"
        },
        "id": "9bSyGjaP3bEt",
        "outputId": "6badabbc-175a-42eb-8cfb-6c66f56a8ea3"
      },
      "execution_count": 48,
      "outputs": [
        {
          "output_type": "stream",
          "name": "stdout",
          "text": [
            "+-----+----------+------+-----------+\n",
            "| name|department|salary|name_length|\n",
            "+-----+----------+------+-----------+\n",
            "| John|     Sales|  3000|          4|\n",
            "| Jane|   Finance|  4000|          4|\n",
            "| Mike|     Sales|  3500|          4|\n",
            "|Alice|   Finance|  3800|          5|\n",
            "|  Bob|        IT|  4500|          3|\n",
            "+-----+----------+------+-----------+\n",
            "\n"
          ]
        }
      ]
    },
    {
      "cell_type": "code",
      "source": [
        "#add some conditional columns (salary, category) high medium and low\n",
        "df_with_category = df.withColumn(\n",
        "    \"category\",\n",
        "    when(col(\"salary\") >= 4000, \"High\")\n",
        "    .when((col(\"salary\") >= 3500) & (col(\"salary\") < 4000), \"Medium\")\n",
        "    .otherwise(\"Low\")\n",
        ")\n",
        "df_with_category.show()\n",
        "\n",
        "\n"
      ],
      "metadata": {
        "colab": {
          "base_uri": "https://localhost:8080/"
        },
        "id": "mhh0tVsN4OYx",
        "outputId": "3812395c-7f34-4e0c-8aff-e09b9f02c3b7"
      },
      "execution_count": 51,
      "outputs": [
        {
          "output_type": "stream",
          "name": "stdout",
          "text": [
            "+-----+----------+------+--------+\n",
            "| name|department|salary|category|\n",
            "+-----+----------+------+--------+\n",
            "| John|     Sales|  3000|     Low|\n",
            "| Jane|   Finance|  4000|    High|\n",
            "| Mike|     Sales|  3500|  Medium|\n",
            "|Alice|   Finance|  3800|  Medium|\n",
            "|  Bob|        IT|  4500|    High|\n",
            "+-----+----------+------+--------+\n",
            "\n"
          ]
        }
      ]
    },
    {
      "cell_type": "code",
      "source": [
        "# Rename Column (Salary --> Base_salary)\n",
        "df_renamed = df.withColumnRenamed(\"salary\", \"base_salary\")\n",
        "df_renamed.show()"
      ],
      "metadata": {
        "colab": {
          "base_uri": "https://localhost:8080/",
          "height": 180
        },
        "id": "DUAOu7cS5deO",
        "outputId": "0593c0e1-fca8-4ada-dbf5-f9eba3aac0bd"
      },
      "execution_count": 1,
      "outputs": [
        {
          "output_type": "error",
          "ename": "NameError",
          "evalue": "name 'df' is not defined",
          "traceback": [
            "\u001b[0;31m---------------------------------------------------------------------------\u001b[0m",
            "\u001b[0;31mNameError\u001b[0m                                 Traceback (most recent call last)",
            "\u001b[0;32m/tmp/ipython-input-1-1590365724.py\u001b[0m in \u001b[0;36m<cell line: 0>\u001b[0;34m()\u001b[0m\n\u001b[1;32m      1\u001b[0m \u001b[0;31m# Rename Column (Salary --> Base_salary)\u001b[0m\u001b[0;34m\u001b[0m\u001b[0;34m\u001b[0m\u001b[0m\n\u001b[0;32m----> 2\u001b[0;31m \u001b[0mdf_renamed\u001b[0m \u001b[0;34m=\u001b[0m \u001b[0mdf\u001b[0m\u001b[0;34m.\u001b[0m\u001b[0mwithColumnRenamed\u001b[0m\u001b[0;34m(\u001b[0m\u001b[0;34m\"salary\"\u001b[0m\u001b[0;34m,\u001b[0m \u001b[0;34m\"base_salary\"\u001b[0m\u001b[0;34m)\u001b[0m\u001b[0;34m\u001b[0m\u001b[0;34m\u001b[0m\u001b[0m\n\u001b[0m\u001b[1;32m      3\u001b[0m \u001b[0mdf_renamed\u001b[0m\u001b[0;34m.\u001b[0m\u001b[0mshow\u001b[0m\u001b[0;34m(\u001b[0m\u001b[0;34m)\u001b[0m\u001b[0;34m\u001b[0m\u001b[0;34m\u001b[0m\u001b[0m\n",
            "\u001b[0;31mNameError\u001b[0m: name 'df' is not defined"
          ]
        }
      ]
    },
    {
      "cell_type": "code",
      "source": [
        "from pyspark.sql import SparkSession\n",
        "spark =SparkSession.builder.appName(\"Basics\").getOrCreate()\n",
        "columns = [\"Name\",\"Department\",\"Salary\"]\n",
        "data = [\n",
        "    (\"John\", \"Sales\", 3000),\n",
        "    (\"Jane\", \"Finance\", 4000),\n",
        "    (\"Mike\", \"Sales\", 3500),\n",
        "    (\"Alice\", \"Finance\", 3800),\n",
        "    (\"Bob\", \"IT\", 4500)\n",
        "]\n",
        "\n",
        "df = spark.createDataFrame(data, columns)\n",
        "\n",
        "df.show()"
      ],
      "metadata": {
        "colab": {
          "base_uri": "https://localhost:8080/"
        },
        "id": "1dmUK0YeObcb",
        "outputId": "4e5486db-8c6b-415b-d58f-a86323e275fc"
      },
      "execution_count": 3,
      "outputs": [
        {
          "output_type": "stream",
          "name": "stdout",
          "text": [
            "+-----+----------+------+\n",
            "| Name|Department|Salary|\n",
            "+-----+----------+------+\n",
            "| John|     Sales|  3000|\n",
            "| Jane|   Finance|  4000|\n",
            "| Mike|     Sales|  3500|\n",
            "|Alice|   Finance|  3800|\n",
            "|  Bob|        IT|  4500|\n",
            "+-----+----------+------+\n",
            "\n"
          ]
        }
      ]
    },
    {
      "cell_type": "code",
      "source": [
        "#Group by department and count employees\n",
        "df_count = df.groupBy(\"Department\").agg({\"Name\": \"count\"})\n",
        "df_count.show()"
      ],
      "metadata": {
        "colab": {
          "base_uri": "https://localhost:8080/"
        },
        "id": "9BTumljuOpuA",
        "outputId": "31f6803d-879d-4f95-b934-476c3b653940"
      },
      "execution_count": 6,
      "outputs": [
        {
          "output_type": "stream",
          "name": "stdout",
          "text": [
            "+----------+-----------+\n",
            "|Department|count(Name)|\n",
            "+----------+-----------+\n",
            "|     Sales|          2|\n",
            "|   Finance|          2|\n",
            "|        IT|          1|\n",
            "+----------+-----------+\n",
            "\n"
          ]
        }
      ]
    },
    {
      "cell_type": "code",
      "source": [
        "#group by Department and calcualte avarge salary\n",
        "df.groupBy(\"Department\").avg(\"salary\").show()\n"
      ],
      "metadata": {
        "colab": {
          "base_uri": "https://localhost:8080/"
        },
        "id": "P7wBTIvNPEIC",
        "outputId": "0e36257e-d381-4a81-84db-b4fc739360de"
      },
      "execution_count": 8,
      "outputs": [
        {
          "output_type": "stream",
          "name": "stdout",
          "text": [
            "+----------+-----------+\n",
            "|Department|avg(salary)|\n",
            "+----------+-----------+\n",
            "|     Sales|     3250.0|\n",
            "|   Finance|     3900.0|\n",
            "|        IT|     4500.0|\n",
            "+----------+-----------+\n",
            "\n"
          ]
        }
      ]
    },
    {
      "cell_type": "code",
      "source": [
        "#Group by departemnt and calculate multiple aggregation:\n",
        "df.groupBy(\"Department\").agg({\"Salary\": \"avg\", \"Salary\": \"max\", \"Salary\": \"min\"}).show()"
      ],
      "metadata": {
        "colab": {
          "base_uri": "https://localhost:8080/"
        },
        "id": "baSd1t8jPaat",
        "outputId": "29f32b1b-f08d-4807-fafa-3c5411cc0e8a"
      },
      "execution_count": 10,
      "outputs": [
        {
          "output_type": "stream",
          "name": "stdout",
          "text": [
            "+----------+-----------+\n",
            "|Department|min(Salary)|\n",
            "+----------+-----------+\n",
            "|     Sales|       3000|\n",
            "|   Finance|       3800|\n",
            "|        IT|       4500|\n",
            "+----------+-----------+\n",
            "\n"
          ]
        }
      ]
    },
    {
      "cell_type": "code",
      "source": [
        "from pyspark.sql import functions as F\n",
        "df.groupBy(\"Department\").agg(F.avg(\"Salary\"), F.max(\"Salary\"), F.min(\"Salary\")).show()"
      ],
      "metadata": {
        "colab": {
          "base_uri": "https://localhost:8080/"
        },
        "id": "iUP0mtmaP_-T",
        "outputId": "433188e2-2fd3-4304-eb9a-aa76eff440d2"
      },
      "execution_count": 13,
      "outputs": [
        {
          "output_type": "stream",
          "name": "stdout",
          "text": [
            "+----------+-----------+-----------+-----------+\n",
            "|Department|avg(Salary)|max(Salary)|min(Salary)|\n",
            "+----------+-----------+-----------+-----------+\n",
            "|     Sales|     3250.0|       3500|       3000|\n",
            "|   Finance|     3900.0|       4000|       3800|\n",
            "|        IT|     4500.0|       4500|       4500|\n",
            "+----------+-----------+-----------+-----------+\n",
            "\n"
          ]
        }
      ]
    },
    {
      "cell_type": "code",
      "source": [
        "# Create another DataFrame for department info\n",
        "dept_data = [\n",
        "    (\"Sales\", \"Building A\"),\n",
        "    (\"Finance\", \"Building B\"),\n",
        "    (\"IT\", \"Building C\")\n",
        "]\n",
        "dept_columns = [\"Department\", \"Location\"]"
      ],
      "metadata": {
        "id": "UYjtC4nSRF_H"
      },
      "execution_count": 14,
      "outputs": []
    },
    {
      "cell_type": "code",
      "source": [
        "dept_df = spark.createDataFrame(dept_data, dept_columns)\n",
        "#join employee data with department info\n",
        "df_joined = df.join(dept_df, on=\"Department\", how=\"inner\")\n",
        "df_joined.show()"
      ],
      "metadata": {
        "colab": {
          "base_uri": "https://localhost:8080/"
        },
        "id": "i5weTzcjR9_e",
        "outputId": "69b320dd-3864-4d18-899e-ace6ba0b72de"
      },
      "execution_count": 19,
      "outputs": [
        {
          "output_type": "stream",
          "name": "stdout",
          "text": [
            "+----------+-----+------+----------+\n",
            "|Department| Name|Salary|  Location|\n",
            "+----------+-----+------+----------+\n",
            "|   Finance| Jane|  4000|Building B|\n",
            "|   Finance|Alice|  3800|Building B|\n",
            "|        IT|  Bob|  4500|Building C|\n",
            "|     Sales| John|  3000|Building A|\n",
            "|     Sales| Mike|  3500|Building A|\n",
            "+----------+-----+------+----------+\n",
            "\n"
          ]
        }
      ]
    },
    {
      "cell_type": "code",
      "source": [
        "dept_df.show()"
      ],
      "metadata": {
        "colab": {
          "base_uri": "https://localhost:8080/"
        },
        "id": "Jn3Ijxh8S49D",
        "outputId": "1298f72a-4da5-4105-b2bd-8626ff48f3cb"
      },
      "execution_count": 20,
      "outputs": [
        {
          "output_type": "stream",
          "name": "stdout",
          "text": [
            "+----------+----------+\n",
            "|Department|  Location|\n",
            "+----------+----------+\n",
            "|     Sales|Building A|\n",
            "|   Finance|Building B|\n",
            "|        IT|Building C|\n",
            "+----------+----------+\n",
            "\n"
          ]
        }
      ]
    },
    {
      "cell_type": "code",
      "source": [
        "dept_df = spark.createDataFrame(dept_data, dept_columns)\n",
        "#join employee data with department info\n",
        "df_joined = df.join(dept_df, on=\"Department\", how=\"left\")\n",
        "df_joined.show()"
      ],
      "metadata": {
        "colab": {
          "base_uri": "https://localhost:8080/"
        },
        "id": "7-OUsF_kVBME",
        "outputId": "c77a3718-f898-4333-d0fc-c2f8401bd48d"
      },
      "execution_count": 22,
      "outputs": [
        {
          "output_type": "stream",
          "name": "stdout",
          "text": [
            "+----------+-----+------+----------+\n",
            "|Department| Name|Salary|  Location|\n",
            "+----------+-----+------+----------+\n",
            "|     Sales| John|  3000|Building A|\n",
            "|   Finance| Jane|  4000|Building B|\n",
            "|     Sales| Mike|  3500|Building A|\n",
            "|   Finance|Alice|  3800|Building B|\n",
            "|        IT|  Bob|  4500|Building C|\n",
            "+----------+-----+------+----------+\n",
            "\n"
          ]
        }
      ]
    },
    {
      "cell_type": "code",
      "source": [
        "#perform inner join\n",
        "df_joined = df.join(dept_df, on=\"Department\", how=\"inner\")\n",
        "df_joined.show()"
      ],
      "metadata": {
        "colab": {
          "base_uri": "https://localhost:8080/"
        },
        "id": "PNgnmA4zVTeU",
        "outputId": "fff20273-5261-4841-be54-079747d80ef5"
      },
      "execution_count": 24,
      "outputs": [
        {
          "output_type": "stream",
          "name": "stdout",
          "text": [
            "+----------+-----+------+----------+\n",
            "|Department| Name|Salary|  Location|\n",
            "+----------+-----+------+----------+\n",
            "|   Finance| Jane|  4000|Building B|\n",
            "|   Finance|Alice|  3800|Building B|\n",
            "|        IT|  Bob|  4500|Building C|\n",
            "|     Sales| John|  3000|Building A|\n",
            "|     Sales| Mike|  3500|Building A|\n",
            "+----------+-----+------+----------+\n",
            "\n"
          ]
        }
      ]
    },
    {
      "cell_type": "code",
      "source": [
        "#perform left join employee, dept info if exist\n",
        "df_joined = df.join(dept_df, on=\"Department\", how=\"left\")\n",
        "df_joined.show()"
      ],
      "metadata": {
        "colab": {
          "base_uri": "https://localhost:8080/"
        },
        "id": "CTIf3QSGVdeo",
        "outputId": "f7746aec-e959-4e38-a76f-7d2f689ed89e"
      },
      "execution_count": 26,
      "outputs": [
        {
          "output_type": "stream",
          "name": "stdout",
          "text": [
            "+----------+-----+------+----------+\n",
            "|Department| Name|Salary|  Location|\n",
            "+----------+-----+------+----------+\n",
            "|     Sales| John|  3000|Building A|\n",
            "|   Finance| Jane|  4000|Building B|\n",
            "|     Sales| Mike|  3500|Building A|\n",
            "|   Finance|Alice|  3800|Building B|\n",
            "|        IT|  Bob|  4500|Building C|\n",
            "+----------+-----+------+----------+\n",
            "\n"
          ]
        }
      ]
    },
    {
      "cell_type": "code",
      "source": [
        "#perform right join employee, dept info if exist\n",
        "df_joined = df.join(dept_df, on=\"Department\", how=\"right\")\n",
        "df_joined.show()"
      ],
      "metadata": {
        "colab": {
          "base_uri": "https://localhost:8080/"
        },
        "id": "pcZ1nN3fVt8p",
        "outputId": "d7277e48-eeae-4179-bd23-90def4d3f1c1"
      },
      "execution_count": 28,
      "outputs": [
        {
          "output_type": "stream",
          "name": "stdout",
          "text": [
            "+----------+-----+------+----------+\n",
            "|Department| Name|Salary|  Location|\n",
            "+----------+-----+------+----------+\n",
            "|     Sales| Mike|  3500|Building A|\n",
            "|     Sales| John|  3000|Building A|\n",
            "|   Finance|Alice|  3800|Building B|\n",
            "|   Finance| Jane|  4000|Building B|\n",
            "|        IT|  Bob|  4500|Building C|\n",
            "+----------+-----+------+----------+\n",
            "\n"
          ]
        }
      ]
    },
    {
      "cell_type": "code",
      "source": [
        "#right outer join (all department, emp info if exist )\n",
        "df_joined = df.join(dept_df, on=\"Department\", how=\"rightouter\")\n",
        "df_joined.show()"
      ],
      "metadata": {
        "colab": {
          "base_uri": "https://localhost:8080/"
        },
        "id": "sl8SKtkmV4We",
        "outputId": "d4cda1df-055d-438c-fb78-1fc49dacbe4a"
      },
      "execution_count": 30,
      "outputs": [
        {
          "output_type": "stream",
          "name": "stdout",
          "text": [
            "+----------+-----+------+----------+\n",
            "|Department| Name|Salary|  Location|\n",
            "+----------+-----+------+----------+\n",
            "|     Sales| Mike|  3500|Building A|\n",
            "|     Sales| John|  3000|Building A|\n",
            "|   Finance|Alice|  3800|Building B|\n",
            "|   Finance| Jane|  4000|Building B|\n",
            "|        IT|  Bob|  4500|Building C|\n",
            "+----------+-----+------+----------+\n",
            "\n"
          ]
        }
      ]
    },
    {
      "cell_type": "code",
      "source": [
        "#full outer join (all department, emp info if exist )\n",
        "df_joined = df.join(dept_df, on=\"Department\", how=\"fullouter\")\n",
        "df_joined.show()"
      ],
      "metadata": {
        "colab": {
          "base_uri": "https://localhost:8080/"
        },
        "id": "uCsN0UXOWIa1",
        "outputId": "e078a5b1-13e9-4c29-dec8-655d9db1777b"
      },
      "execution_count": 31,
      "outputs": [
        {
          "output_type": "stream",
          "name": "stdout",
          "text": [
            "+----------+-----+------+----------+\n",
            "|Department| Name|Salary|  Location|\n",
            "+----------+-----+------+----------+\n",
            "|   Finance| Jane|  4000|Building B|\n",
            "|   Finance|Alice|  3800|Building B|\n",
            "|        IT|  Bob|  4500|Building C|\n",
            "|     Sales| John|  3000|Building A|\n",
            "|     Sales| Mike|  3500|Building A|\n",
            "+----------+-----+------+----------+\n",
            "\n"
          ]
        }
      ]
    },
    {
      "cell_type": "markdown",
      "source": [
        "##Sample Datasets: Project\n"
      ],
      "metadata": {
        "id": "hLTfZMjxbrbz"
      }
    },
    {
      "cell_type": "code",
      "source": [
        "  from pyspark.sql import SparkSession\n",
        "from pyspark.sql.functions import col, expr, sum\n"
      ],
      "metadata": {
        "id": "YtBjUPTCb0HU"
      },
      "execution_count": 33,
      "outputs": []
    },
    {
      "cell_type": "code",
      "source": [
        "# Start Spark session\n",
        "spark = SparkSession.builder.appName(\"RevenueCalculation\").getOrCreate()\n"
      ],
      "metadata": {
        "id": "D4htHn4rnrQx"
      },
      "execution_count": 35,
      "outputs": []
    },
    {
      "cell_type": "code",
      "source": [
        "# Step 2: Create sales_data DataFrame\n",
        "sales_data = [\n",
        "    (\"1\", \"P101\", 2, 500),\n",
        "    (\"2\", \"P102\", 1, 300),\n",
        "    (\"3\", \"P101\", 1, 500)\n",
        "]\n",
        "sales_df = spark.createDataFrame(sales_data, [\"sale_id\", \"product_id\", \"quantity\", \"price\"])\n",
        "\n",
        "print(\"🔹 Step 2: Sales Data\")\n",
        "sales_df.show()\n"
      ],
      "metadata": {
        "colab": {
          "base_uri": "https://localhost:8080/"
        },
        "id": "xl6pdot3n7io",
        "outputId": "714b77e5-9a33-4ae0-8b31-2c867e8f8216"
      },
      "execution_count": 37,
      "outputs": [
        {
          "output_type": "stream",
          "name": "stdout",
          "text": [
            "🔹 Step 2: Sales Data\n",
            "+-------+----------+--------+-----+\n",
            "|sale_id|product_id|quantity|price|\n",
            "+-------+----------+--------+-----+\n",
            "|      1|      P101|       2|  500|\n",
            "|      2|      P102|       1|  300|\n",
            "|      3|      P101|       1|  500|\n",
            "+-------+----------+--------+-----+\n",
            "\n"
          ]
        }
      ]
    },
    {
      "cell_type": "code",
      "source": [
        "# Step 3: Create product_data DataFrame\n",
        "product_data = [\n",
        "    (\"P101\", \"Mobile Phone\"),\n",
        "    (\"P102\", \"Power Bank\")\n",
        "]\n",
        "product_df = spark.createDataFrame(product_data, [\"product_id\", \"product_name\"])\n",
        "\n",
        "print(\"🔹 Step 3: Product Data\")\n",
        "product_df.show()\n"
      ],
      "metadata": {
        "colab": {
          "base_uri": "https://localhost:8080/"
        },
        "id": "AezCjowwn9p9",
        "outputId": "ce2aec50-6c3b-49e7-a612-15bc5b4b85bb"
      },
      "execution_count": 39,
      "outputs": [
        {
          "output_type": "stream",
          "name": "stdout",
          "text": [
            "🔹 Step 3: Product Data\n",
            "+----------+------------+\n",
            "|product_id|product_name|\n",
            "+----------+------------+\n",
            "|      P101|Mobile Phone|\n",
            "|      P102|  Power Bank|\n",
            "+----------+------------+\n",
            "\n"
          ]
        }
      ]
    },
    {
      "cell_type": "code",
      "source": [
        "# Step 4: Add revenue column to sales_df\n",
        "sales_df = sales_df.withColumn(\"revenue\", col(\"quantity\") * col(\"price\"))\n",
        "\n",
        "print(\"🔹 Step 4: Sales Data with Revenue\")\n",
        "sales_df.show()"
      ],
      "metadata": {
        "colab": {
          "base_uri": "https://localhost:8080/"
        },
        "id": "vfMHl-4YoBno",
        "outputId": "8e98c848-fca7-493b-f149-6db307f5e62e"
      },
      "execution_count": 41,
      "outputs": [
        {
          "output_type": "stream",
          "name": "stdout",
          "text": [
            "🔹 Step 4: Sales Data with Revenue\n",
            "+-------+----------+--------+-----+-------+\n",
            "|sale_id|product_id|quantity|price|revenue|\n",
            "+-------+----------+--------+-----+-------+\n",
            "|      1|      P101|       2|  500|   1000|\n",
            "|      2|      P102|       1|  300|    300|\n",
            "|      3|      P101|       1|  500|    500|\n",
            "+-------+----------+--------+-----+-------+\n",
            "\n"
          ]
        }
      ]
    },
    {
      "cell_type": "code",
      "source": [
        "# Step 5: Join sales_df with product_df\n",
        "joined_df = sales_df.join(product_df, \"product_id\")\n",
        "\n",
        "print(\"🔹 Step 5: Joined DataFrame\")\n",
        "joined_df.show()"
      ],
      "metadata": {
        "colab": {
          "base_uri": "https://localhost:8080/"
        },
        "id": "opxZcXXQoHNK",
        "outputId": "d141e903-aabd-47a5-9173-63b1be3290d0"
      },
      "execution_count": 43,
      "outputs": [
        {
          "output_type": "stream",
          "name": "stdout",
          "text": [
            "🔹 Step 5: Joined DataFrame\n",
            "+----------+-------+--------+-----+-------+------------+\n",
            "|product_id|sale_id|quantity|price|revenue|product_name|\n",
            "+----------+-------+--------+-----+-------+------------+\n",
            "|      P101|      1|       2|  500|   1000|Mobile Phone|\n",
            "|      P101|      3|       1|  500|    500|Mobile Phone|\n",
            "|      P102|      2|       1|  300|    300|  Power Bank|\n",
            "+----------+-------+--------+-----+-------+------------+\n",
            "\n"
          ]
        }
      ]
    },
    {
      "cell_type": "code",
      "source": [
        "# Step 6: Group by product and calculate total revenue\n",
        "revenue_df = joined_df.groupBy(\"product_id\", \"product_name\").agg(sum(\"revenue\").alias(\"total_revenue\"))\n",
        "\n",
        "print(\"🔹 Step 6: Final Revenue by Product\")\n",
        "revenue_df.show()"
      ],
      "metadata": {
        "colab": {
          "base_uri": "https://localhost:8080/"
        },
        "id": "HrDERH3xoJzY",
        "outputId": "6dca108d-3226-4bc2-b556-62cf654b3f38"
      },
      "execution_count": 45,
      "outputs": [
        {
          "output_type": "stream",
          "name": "stdout",
          "text": [
            "🔹 Step 6: Final Revenue by Product\n",
            "+----------+------------+-------------+\n",
            "|product_id|product_name|total_revenue|\n",
            "+----------+------------+-------------+\n",
            "|      P101|Mobile Phone|         1500|\n",
            "|      P102|  Power Bank|          300|\n",
            "+----------+------------+-------------+\n",
            "\n"
          ]
        }
      ]
    },
    {
      "cell_type": "code",
      "source": [
        "#data loading in dataframe-sales_data\n",
        "sf=spark.read.csv(\"/content/sales_data.csv\", header=True, inferSchema=True)\n",
        "sf.show()\n"
      ],
      "metadata": {
        "colab": {
          "base_uri": "https://localhost:8080/"
        },
        "id": "-_DnoBUEpwsg",
        "outputId": "a4246341-ab32-4d81-97e8-25b0b99c205e"
      },
      "execution_count": 48,
      "outputs": [
        {
          "output_type": "stream",
          "name": "stdout",
          "text": [
            "+-------+----------+-----------+-------------------+--------+-----+\n",
            "|sale_id|product_id|customer_id|          sale_date|quantity|price|\n",
            "+-------+----------+-----------+-------------------+--------+-----+\n",
            "|   1001|       101|        501|2025-07-10 08:23:00|       3| 25.5|\n",
            "|   1002|       102|        502|2025-07-11 09:45:00|       2| 15.0|\n",
            "|   1003|       103|        503|2025-07-12 10:15:00|       1| 30.0|\n",
            "|   1004|       101|        504|2025-07-13 12:20:00|       5| 25.5|\n",
            "|   1005|       105|        505|2025-07-14 14:35:00|      10| 45.0|\n",
            "|   1006|       102|        506|2025-07-15 16:00:00|       4| 15.0|\n",
            "|   1007|       106|        507|2025-07-16 17:10:00|       3| 40.0|\n",
            "|   1008|       107|        508|2025-07-17 18:25:00|       2| 60.0|\n",
            "|   1009|       108|        509|2025-07-18 19:30:00|       7| 25.0|\n",
            "|   1010|       109|        510|2025-07-19 20:45:00|       6| 50.0|\n",
            "|   1011|       110|        511|2025-07-20 21:55:00|       4| 12.5|\n",
            "|   1012|       111|        512|2025-07-21 22:30:00|       9| 10.0|\n",
            "|   1013|       112|        513|2025-07-22 23:40:00|       8| 22.5|\n",
            "|   1014|       113|        514|2025-07-23 09:15:00|       3| 17.0|\n",
            "|   1015|       114|        515|2025-07-24 10:35:00|       2| 45.5|\n",
            "|   1016|       115|        516|2025-07-25 11:45:00|       4| 32.0|\n",
            "|   1017|       116|        517|2025-07-26 13:00:00|       5| 28.0|\n",
            "|   1018|       117|        518|2025-07-27 14:15:00|       1| 50.0|\n",
            "|   1019|       118|        519|2025-07-28 15:30:00|       6| 18.5|\n",
            "|   1020|       119|        520|2025-07-29 16:45:00|       7| 40.0|\n",
            "+-------+----------+-----------+-------------------+--------+-----+\n",
            "only showing top 20 rows\n",
            "\n"
          ]
        }
      ]
    },
    {
      "cell_type": "code",
      "source": [
        "#data loading in dataframe-customer_data\n",
        "sf=spark.read.csv(\"/content/customer_data.csv\", header=True, inferSchema=True)\n",
        "sf.show()"
      ],
      "metadata": {
        "colab": {
          "base_uri": "https://localhost:8080/"
        },
        "id": "BFeh_aG1qDWS",
        "outputId": "71d3a05f-6435-44b6-890c-233681eac2a9"
      },
      "execution_count": 50,
      "outputs": [
        {
          "output_type": "stream",
          "name": "stdout",
          "text": [
            "+-----------+-------------+-------------------+-------------------+\n",
            "|customer_id|customer_name|              email|          join_date|\n",
            "+-----------+-------------+-------------------+-------------------+\n",
            "|        501|        Alice|  alice@example.com|2025-05-20 10:10:00|\n",
            "|        502|          Bob|    bob@example.com|2025-06-15 14:00:00|\n",
            "|        503|      Charlie|charlie@example.com|2025-04-05 09:50:00|\n",
            "|        504|        David|  david@example.com|2025-07-01 12:25:00|\n",
            "|        505|         Emma|   emma@example.com|2025-07-10 15:30:00|\n",
            "|        506|        Frank|  frank@example.com|2025-03-23 17:00:00|\n",
            "|        507|        Grace|  grace@example.com|2025-05-01 13:20:00|\n",
            "|        508|        Henry|  henry@example.com|2025-06-07 10:10:00|\n",
            "|        509|       Isabel| isabel@example.com|2025-05-25 16:30:00|\n",
            "|        510|         Jack|   jack@example.com|2025-04-12 11:55:00|\n",
            "|        511|         Kate|   kate@example.com|2025-06-18 14:10:00|\n",
            "|        512|         Liam|   liam@example.com|2025-07-05 08:45:00|\n",
            "|        513|         Mona|   mona@example.com|2025-03-30 15:25:00|\n",
            "|        514|         Nina|   nina@example.com|2025-04-19 10:35:00|\n",
            "|        515|        Oscar|  oscar@example.com|2025-05-14 09:15:00|\n",
            "|        516|         Paul|   paul@example.com|2025-06-03 12:50:00|\n",
            "|        517|        Quinn|  quinn@example.com|2025-07-13 13:10:00|\n",
            "|        518|         Rita|   rita@example.com|2025-07-20 11:00:00|\n",
            "|        519|         Sara|   sara@example.com|2025-06-30 17:40:00|\n",
            "|        520|          Tom|    tom@example.com|2025-05-18 14:20:00|\n",
            "+-----------+-------------+-------------------+-------------------+\n",
            "only showing top 20 rows\n",
            "\n"
          ]
        }
      ]
    },
    {
      "cell_type": "code",
      "source": [
        "#data loading in dataframe-pruduct_data\n",
        "sf=spark.read.csv(\"/content/product_data.csv\", header=True, inferSchema=True)\n",
        "sf.show()"
      ],
      "metadata": {
        "colab": {
          "base_uri": "https://localhost:8080/"
        },
        "id": "Z7VNl9vMqkFD",
        "outputId": "39587118-65d5-470e-ff6c-42c5beb0c434"
      },
      "execution_count": 53,
      "outputs": [
        {
          "output_type": "stream",
          "name": "stdout",
          "text": [
            "+----------+------------+-------------+\n",
            "|product_id|product_name|     category|\n",
            "+----------+------------+-------------+\n",
            "|       101|    Widget A|      Gadgets|\n",
            "|       102|    Widget B|      Gadgets|\n",
            "|       103|    Widget C|  Electronics|\n",
            "|       104|    Widget D|  Electronics|\n",
            "|       105|    Widget E|Home & Living|\n",
            "|       106|    Widget F|Home & Living|\n",
            "|       107|    Widget G|    Furniture|\n",
            "|       108|    Widget H|      Gadgets|\n",
            "|       109|    Widget I|    Furniture|\n",
            "|       110|    Widget J|  Electronics|\n",
            "|       111|    Widget K|Home & Living|\n",
            "|       112|    Widget L|  Electronics|\n",
            "|       113|    Widget M|      Gadgets|\n",
            "|       114|    Widget N|    Furniture|\n",
            "|       115|    Widget O|      Gadgets|\n",
            "|       116|    Widget P|Home & Living|\n",
            "|       117|    Widget Q|  Electronics|\n",
            "|       118|    Widget R|    Furniture|\n",
            "|       119|    Widget S|      Gadgets|\n",
            "|       120|    Widget T|    Furniture|\n",
            "+----------+------------+-------------+\n",
            "only showing top 20 rows\n",
            "\n"
          ]
        }
      ]
    },
    {
      "cell_type": "code",
      "source": [
        "# Step 1: Start a SparkSession\n",
        "from pyspark.sql import SparkSession\n",
        "\n",
        "spark = SparkSession.builder \\\n",
        "    .appName(\"RetailSalesAnalysis\") \\\n",
        "    .getOrCreate()\n",
        "\n",
        "\n",
        "\n",
        "\n"
      ],
      "metadata": {
        "id": "NnDZUA59rAhY"
      },
      "execution_count": 55,
      "outputs": []
    },
    {
      "cell_type": "code",
      "source": [
        "# Step 2: Read the CSV files into DataFrames\n",
        "# Load sales data\n",
        "sales_df = spark.read.csv(\"sales_data.csv\", header=True, inferSchema=True)\n",
        "\n",
        "# Load product data\n",
        "product_df = spark.read.csv(\"product_data.csv\", header=True, inferSchema=True)\n",
        "\n",
        "# Load customer data\n",
        "customer_df = spark.read.csv(\"customer_data.csv\", header=True, inferSchema=True)"
      ],
      "metadata": {
        "id": "4RdKn2bksrY_"
      },
      "execution_count": 57,
      "outputs": []
    },
    {
      "cell_type": "code",
      "source": [
        "#Step3: Verify DataFrames using .show()\n",
        "sales_df.show()\n",
        "product_df.show()\n",
        "customer_df.show()\n"
      ],
      "metadata": {
        "colab": {
          "base_uri": "https://localhost:8080/"
        },
        "id": "sNeESxqAsuF3",
        "outputId": "98ae89e0-339b-4abf-dc3b-e8900d5c107b"
      },
      "execution_count": 59,
      "outputs": [
        {
          "output_type": "stream",
          "name": "stdout",
          "text": [
            "+-------+----------+-----------+-------------------+--------+-----+\n",
            "|sale_id|product_id|customer_id|          sale_date|quantity|price|\n",
            "+-------+----------+-----------+-------------------+--------+-----+\n",
            "|   1001|       101|        501|2025-07-10 08:23:00|       3| 25.5|\n",
            "|   1002|       102|        502|2025-07-11 09:45:00|       2| 15.0|\n",
            "|   1003|       103|        503|2025-07-12 10:15:00|       1| 30.0|\n",
            "|   1004|       101|        504|2025-07-13 12:20:00|       5| 25.5|\n",
            "|   1005|       105|        505|2025-07-14 14:35:00|      10| 45.0|\n",
            "|   1006|       102|        506|2025-07-15 16:00:00|       4| 15.0|\n",
            "|   1007|       106|        507|2025-07-16 17:10:00|       3| 40.0|\n",
            "|   1008|       107|        508|2025-07-17 18:25:00|       2| 60.0|\n",
            "|   1009|       108|        509|2025-07-18 19:30:00|       7| 25.0|\n",
            "|   1010|       109|        510|2025-07-19 20:45:00|       6| 50.0|\n",
            "|   1011|       110|        511|2025-07-20 21:55:00|       4| 12.5|\n",
            "|   1012|       111|        512|2025-07-21 22:30:00|       9| 10.0|\n",
            "|   1013|       112|        513|2025-07-22 23:40:00|       8| 22.5|\n",
            "|   1014|       113|        514|2025-07-23 09:15:00|       3| 17.0|\n",
            "|   1015|       114|        515|2025-07-24 10:35:00|       2| 45.5|\n",
            "|   1016|       115|        516|2025-07-25 11:45:00|       4| 32.0|\n",
            "|   1017|       116|        517|2025-07-26 13:00:00|       5| 28.0|\n",
            "|   1018|       117|        518|2025-07-27 14:15:00|       1| 50.0|\n",
            "|   1019|       118|        519|2025-07-28 15:30:00|       6| 18.5|\n",
            "|   1020|       119|        520|2025-07-29 16:45:00|       7| 40.0|\n",
            "+-------+----------+-----------+-------------------+--------+-----+\n",
            "only showing top 20 rows\n",
            "\n",
            "+----------+------------+-------------+\n",
            "|product_id|product_name|     category|\n",
            "+----------+------------+-------------+\n",
            "|       101|    Widget A|      Gadgets|\n",
            "|       102|    Widget B|      Gadgets|\n",
            "|       103|    Widget C|  Electronics|\n",
            "|       104|    Widget D|  Electronics|\n",
            "|       105|    Widget E|Home & Living|\n",
            "|       106|    Widget F|Home & Living|\n",
            "|       107|    Widget G|    Furniture|\n",
            "|       108|    Widget H|      Gadgets|\n",
            "|       109|    Widget I|    Furniture|\n",
            "|       110|    Widget J|  Electronics|\n",
            "|       111|    Widget K|Home & Living|\n",
            "|       112|    Widget L|  Electronics|\n",
            "|       113|    Widget M|      Gadgets|\n",
            "|       114|    Widget N|    Furniture|\n",
            "|       115|    Widget O|      Gadgets|\n",
            "|       116|    Widget P|Home & Living|\n",
            "|       117|    Widget Q|  Electronics|\n",
            "|       118|    Widget R|    Furniture|\n",
            "|       119|    Widget S|      Gadgets|\n",
            "|       120|    Widget T|    Furniture|\n",
            "+----------+------------+-------------+\n",
            "only showing top 20 rows\n",
            "\n",
            "+-----------+-------------+-------------------+-------------------+\n",
            "|customer_id|customer_name|              email|          join_date|\n",
            "+-----------+-------------+-------------------+-------------------+\n",
            "|        501|        Alice|  alice@example.com|2025-05-20 10:10:00|\n",
            "|        502|          Bob|    bob@example.com|2025-06-15 14:00:00|\n",
            "|        503|      Charlie|charlie@example.com|2025-04-05 09:50:00|\n",
            "|        504|        David|  david@example.com|2025-07-01 12:25:00|\n",
            "|        505|         Emma|   emma@example.com|2025-07-10 15:30:00|\n",
            "|        506|        Frank|  frank@example.com|2025-03-23 17:00:00|\n",
            "|        507|        Grace|  grace@example.com|2025-05-01 13:20:00|\n",
            "|        508|        Henry|  henry@example.com|2025-06-07 10:10:00|\n",
            "|        509|       Isabel| isabel@example.com|2025-05-25 16:30:00|\n",
            "|        510|         Jack|   jack@example.com|2025-04-12 11:55:00|\n",
            "|        511|         Kate|   kate@example.com|2025-06-18 14:10:00|\n",
            "|        512|         Liam|   liam@example.com|2025-07-05 08:45:00|\n",
            "|        513|         Mona|   mona@example.com|2025-03-30 15:25:00|\n",
            "|        514|         Nina|   nina@example.com|2025-04-19 10:35:00|\n",
            "|        515|        Oscar|  oscar@example.com|2025-05-14 09:15:00|\n",
            "|        516|         Paul|   paul@example.com|2025-06-03 12:50:00|\n",
            "|        517|        Quinn|  quinn@example.com|2025-07-13 13:10:00|\n",
            "|        518|         Rita|   rita@example.com|2025-07-20 11:00:00|\n",
            "|        519|         Sara|   sara@example.com|2025-06-30 17:40:00|\n",
            "|        520|          Tom|    tom@example.com|2025-05-18 14:20:00|\n",
            "+-----------+-------------+-------------------+-------------------+\n",
            "only showing top 20 rows\n",
            "\n"
          ]
        }
      ]
    },
    {
      "cell_type": "code",
      "source": [
        "#Step 4: Create Temporary Views (Optional)\n",
        "sales_df.createOrReplaceTempView(\"sales_data\")\n",
        "product_df.createOrReplaceTempView(\"product_data\")\n",
        "customer_df.createOrReplaceTempView(\"customer_data\")\n"
      ],
      "metadata": {
        "id": "_PlGsi5CtCFL"
      },
      "execution_count": 61,
      "outputs": []
    },
    {
      "cell_type": "code",
      "source": [
        "#Step 5: Solve Problem 1.1 – Total Revenue Per Product\n",
        "from pyspark.sql.functions import col, sum as _sum\n",
        "\n",
        "sales_with_revenue = sales_df.withColumn(\"revenue\", col(\"quantity\") * col(\"price\"))\n",
        "\n",
        "total_revenue_per_product = sales_with_revenue.groupBy(\"product_id\") \\\n",
        "    .agg(_sum(\"revenue\").alias(\"total_revenue\"))\n",
        "\n",
        "total_revenue_per_product.show()\n"
      ],
      "metadata": {
        "colab": {
          "base_uri": "https://localhost:8080/"
        },
        "id": "EujIDyDJtKoi",
        "outputId": "36758bbe-8794-411f-d871-d6d50491dae6"
      },
      "execution_count": 63,
      "outputs": [
        {
          "output_type": "stream",
          "name": "stdout",
          "text": [
            "+----------+-------------+\n",
            "|product_id|total_revenue|\n",
            "+----------+-------------+\n",
            "|       148|         58.0|\n",
            "|       137|        115.0|\n",
            "|       133|        115.5|\n",
            "|       108|        235.0|\n",
            "|       101|        280.5|\n",
            "|       115|        484.0|\n",
            "|       126|        240.0|\n",
            "|       103|        240.0|\n",
            "|       128|         90.0|\n",
            "|       122|        100.0|\n",
            "|       111|        292.5|\n",
            "|       140|         80.0|\n",
            "|       132|        132.0|\n",
            "|       146|        180.0|\n",
            "|       142|        190.0|\n",
            "|       139|         55.5|\n",
            "|       120|        211.5|\n",
            "|       117|        114.0|\n",
            "|       112|        231.0|\n",
            "|       127|         70.0|\n",
            "+----------+-------------+\n",
            "only showing top 20 rows\n",
            "\n"
          ]
        }
      ]
    },
    {
      "cell_type": "code",
      "source": [
        "#Started 1 aggregation\n",
        "#We walked through Total Revenue Per Product, calculating:\n",
        "from pyspark.sql.functions import col, sum as _sum\n",
        "\n",
        "sales_with_revenue = sales_df.withColumn(\"revenue\", col(\"quantity\") * col(\"price\"))\n",
        "\n",
        "total_revenue_per_product = sales_with_revenue.groupBy(\"product_id\") \\\n",
        "    .agg(_sum(\"revenue\").alias(\"total_revenue\"))\n",
        "\n",
        "total_revenue_per_product.show()\n"
      ],
      "metadata": {
        "colab": {
          "base_uri": "https://localhost:8080/"
        },
        "id": "7b2hstQxtPT4",
        "outputId": "b73fb758-1f9e-40c4-a257-e1faf1053338"
      },
      "execution_count": 65,
      "outputs": [
        {
          "output_type": "stream",
          "name": "stdout",
          "text": [
            "+----------+-------------+\n",
            "|product_id|total_revenue|\n",
            "+----------+-------------+\n",
            "|       148|         58.0|\n",
            "|       137|        115.0|\n",
            "|       133|        115.5|\n",
            "|       108|        235.0|\n",
            "|       101|        280.5|\n",
            "|       115|        484.0|\n",
            "|       126|        240.0|\n",
            "|       103|        240.0|\n",
            "|       128|         90.0|\n",
            "|       122|        100.0|\n",
            "|       111|        292.5|\n",
            "|       140|         80.0|\n",
            "|       132|        132.0|\n",
            "|       146|        180.0|\n",
            "|       142|        190.0|\n",
            "|       139|         55.5|\n",
            "|       120|        211.5|\n",
            "|       117|        114.0|\n",
            "|       112|        231.0|\n",
            "|       127|         70.0|\n",
            "+----------+-------------+\n",
            "only showing top 20 rows\n",
            "\n"
          ]
        }
      ]
    },
    {
      "cell_type": "code",
      "source": [
        "#Step 2: Total Quantity Sold Per Customer\n",
        "#We’ll calculate how much quantity each customer has purchased in total.\n",
        "from pyspark.sql.functions import sum as _sum\n",
        "\n",
        "# Group sales by customer_id and sum quantity\n",
        "total_quantity_per_customer = sales_df.groupBy(\"customer_id\") \\\n",
        "    .agg(_sum(\"quantity\").alias(\"total_quantity\"))\n",
        "\n",
        "# Show result\n",
        "total_quantity_per_customer.show()\n"
      ],
      "metadata": {
        "colab": {
          "base_uri": "https://localhost:8080/"
        },
        "id": "d5mkTIW5uMgL",
        "outputId": "166771b6-7c83-4783-9110-eec3b13d1c41"
      },
      "execution_count": 67,
      "outputs": [
        {
          "output_type": "stream",
          "name": "stdout",
          "text": [
            "+-----------+--------------+\n",
            "|customer_id|total_quantity|\n",
            "+-----------+--------------+\n",
            "|        540|             3|\n",
            "|        516|             4|\n",
            "|        513|             8|\n",
            "|        530|             2|\n",
            "|        501|             3|\n",
            "|        548|             9|\n",
            "|        539|             6|\n",
            "|        519|             6|\n",
            "|        556|             8|\n",
            "|        512|             9|\n",
            "|        570|             3|\n",
            "|        559|             6|\n",
            "|        545|             3|\n",
            "|        507|             3|\n",
            "|        544|             7|\n",
            "|        542|             8|\n",
            "|        553|             7|\n",
            "|        560|             5|\n",
            "|        504|             5|\n",
            "|        554|             5|\n",
            "+-----------+--------------+\n",
            "only showing top 20 rows\n",
            "\n"
          ]
        }
      ]
    },
    {
      "cell_type": "code",
      "source": [
        "#Step 3: Average Revenue Per Customer\n",
        "#This shows how much revenue each customer generates on average per transaction.\n",
        "from pyspark.sql.functions import sum as _sum, count, round\n",
        "\n",
        "# First, calculate total revenue and number of transactions per customer\n",
        "customer_revenue_stats = sales_df.withColumn(\"revenue\", sales_df[\"quantity\"] * sales_df[\"price\"]) \\\n",
        "    .groupBy(\"customer_id\") \\\n",
        "    .agg(\n",
        "        _sum(\"revenue\").alias(\"total_revenue\"),\n",
        "        count(\"*\").alias(\"num_transactions\")\n",
        "    )\n",
        "\n",
        "# Then calculate average revenue per transaction\n",
        "avg_revenue_per_customer = customer_revenue_stats.withColumn(\n",
        "    \"avg_revenue\", round(customer_revenue_stats[\"total_revenue\"] / customer_revenue_stats[\"num_transactions\"], 2)\n",
        ")\n",
        "\n",
        "# Show result\n",
        "avg_revenue_per_customer.show()\n"
      ],
      "metadata": {
        "colab": {
          "base_uri": "https://localhost:8080/"
        },
        "id": "pCMuhk-yuYrP",
        "outputId": "9fffc00f-caa3-475f-9538-5fe9abb9d7f1"
      },
      "execution_count": 69,
      "outputs": [
        {
          "output_type": "stream",
          "name": "stdout",
          "text": [
            "+-----------+-------------+----------------+-----------+\n",
            "|customer_id|total_revenue|num_transactions|avg_revenue|\n",
            "+-----------+-------------+----------------+-----------+\n",
            "|        540|         55.5|               1|       55.5|\n",
            "|        516|        128.0|               1|      128.0|\n",
            "|        513|        180.0|               1|      180.0|\n",
            "|        530|         76.0|               1|       76.0|\n",
            "|        501|         76.5|               1|       76.5|\n",
            "|        548|        198.0|               1|      198.0|\n",
            "|        539|        210.0|               1|      210.0|\n",
            "|        519|        111.0|               1|      111.0|\n",
            "|        556|        400.0|               1|      400.0|\n",
            "|        512|         90.0|               1|       90.0|\n",
            "|        570|        120.0|               1|      120.0|\n",
            "|        559|        108.0|               1|      108.0|\n",
            "|        545|         91.5|               1|       91.5|\n",
            "|        507|        120.0|               1|      120.0|\n",
            "|        544|         84.0|               1|       84.0|\n",
            "|        542|        172.0|               1|      172.0|\n",
            "|        553|        210.0|               1|      210.0|\n",
            "|        560|        160.0|               1|      160.0|\n",
            "|        504|        127.5|               1|      127.5|\n",
            "|        554|        200.0|               1|      200.0|\n",
            "+-----------+-------------+----------------+-----------+\n",
            "only showing top 20 rows\n",
            "\n"
          ]
        }
      ]
    },
    {
      "cell_type": "code",
      "source": [
        "#Top 5 Customers by Total Revenue\n",
        "#This gives the top 5 customers who spent the most overall.\n",
        "from pyspark.sql.functions import col\n",
        "\n",
        "top_customers = sales_df.withColumn(\"revenue\", col(\"quantity\") * col(\"price\")) \\\n",
        "    .groupBy(\"customer_id\") \\\n",
        "    .agg(_sum(\"revenue\").alias(\"total_revenue\")) \\\n",
        "    .orderBy(col(\"total_revenue\").desc()) \\\n",
        "    .limit(5)\n",
        "\n",
        "top_customers.show()\n"
      ],
      "metadata": {
        "colab": {
          "base_uri": "https://localhost:8080/"
        },
        "id": "C5G332GmukSW",
        "outputId": "7e5f6d72-bdbc-42e0-f1d2-55e749786c2b"
      },
      "execution_count": 71,
      "outputs": [
        {
          "output_type": "stream",
          "name": "stdout",
          "text": [
            "+-----------+-------------+\n",
            "|customer_id|total_revenue|\n",
            "+-----------+-------------+\n",
            "|        505|        450.0|\n",
            "|        556|        400.0|\n",
            "|        565|        356.0|\n",
            "|        510|        300.0|\n",
            "|        520|        280.0|\n",
            "+-----------+-------------+\n",
            "\n"
          ]
        }
      ]
    },
    {
      "cell_type": "code",
      "source": [
        "#Step 5: Top 3 Selling Categories by Quantity\n",
        "#Here we’ll join sales_df with product_df, then group by category and sum quantity.\n",
        "# Join sales data with product data to get category info\n",
        "sales_with_category = sales_df.join(product_df, on=\"product_id\", how=\"inner\")\n",
        "\n",
        "# Group by category and calculate total quantity sold\n",
        "top_categories = sales_with_category.groupBy(\"category\") \\\n",
        "    .agg(_sum(\"quantity\").alias(\"total_quantity\")) \\\n",
        "    .orderBy(col(\"total_quantity\").desc()) \\\n",
        "    .limit(3)\n",
        "\n",
        "top_categories.show()\n",
        "\n"
      ],
      "metadata": {
        "colab": {
          "base_uri": "https://localhost:8080/"
        },
        "id": "CSdSpZGjuwdd",
        "outputId": "26422ccb-2e34-4a00-d09a-857841040314"
      },
      "execution_count": 73,
      "outputs": [
        {
          "output_type": "stream",
          "name": "stdout",
          "text": [
            "+-------------+--------------+\n",
            "|     category|total_quantity|\n",
            "+-------------+--------------+\n",
            "|      Gadgets|            99|\n",
            "|Home & Living|            88|\n",
            "|    Furniture|            81|\n",
            "+-------------+--------------+\n",
            "\n"
          ]
        }
      ]
    },
    {
      "cell_type": "code",
      "source": [
        "#step6:Find Returning Customers (More Than 1 Purchase)\n",
        "#We’ll analyze the number of purchases each customer made and filter those with more than one.\n",
        "# Count number of purchases per customer\n",
        "returning_customers = sales_df.groupBy(\"customer_id\") \\\n",
        "    .agg(count(\"sale_id\").alias(\"num_purchases\")) \\\n",
        "    .filter(col(\"num_purchases\") > 1)\n",
        "\n",
        "# Join with customer_df to get their details\n",
        "returning_customers_info = returning_customers.join(customer_df, on=\"customer_id\", how=\"inner\")\n",
        "\n",
        "returning_customers_info.select(\"customer_id\", \"customer_name\", \"email\", \"num_purchases\").show()\n",
        "\n"
      ],
      "metadata": {
        "colab": {
          "base_uri": "https://localhost:8080/"
        },
        "id": "mgyL_zJjvEWp",
        "outputId": "9ecc997d-eec9-4dd3-b12d-aa89d9917330"
      },
      "execution_count": 75,
      "outputs": [
        {
          "output_type": "stream",
          "name": "stdout",
          "text": [
            "+-----------+-------------+-----+-------------+\n",
            "|customer_id|customer_name|email|num_purchases|\n",
            "+-----------+-------------+-----+-------------+\n",
            "+-----------+-------------+-----+-------------+\n",
            "\n"
          ]
        }
      ]
    },
    {
      "cell_type": "code",
      "source": [
        "#Step 7: Top 5 Customers by Total Amount Spent\n",
        "#We'll calculate the total spending by each customer (quantity * price) and sort to get the top 5.\n",
        "# Calculate total amount per transaction\n",
        "sales_df = sales_df.withColumn(\"total_amount\", col(\"quantity\") * col(\"price\"))\n",
        "\n",
        "# Aggregate total spend per customer\n",
        "customer_spending = sales_df.groupBy(\"customer_id\") \\\n",
        "    .agg(_sum(\"total_amount\").alias(\"total_spent\"))\n",
        "\n",
        "# Join with customer details\n",
        "top_spenders = customer_spending.join(customer_df, on=\"customer_id\", how=\"inner\") \\\n",
        "    .orderBy(col(\"total_spent\").desc()) \\\n",
        "    .limit(5)\n",
        "\n",
        "top_spenders.select(\"customer_id\", \"customer_name\", \"email\", \"total_spent\").show()\n"
      ],
      "metadata": {
        "colab": {
          "base_uri": "https://localhost:8080/"
        },
        "id": "NM5vyz2VvQEd",
        "outputId": "1261fc3f-7dad-4280-d69a-83a21518bc1e"
      },
      "execution_count": 77,
      "outputs": [
        {
          "output_type": "stream",
          "name": "stdout",
          "text": [
            "+-----------+-------------+------------------+-----------+\n",
            "|customer_id|customer_name|             email|total_spent|\n",
            "+-----------+-------------+------------------+-----------+\n",
            "|        505|         Emma|  emma@example.com|      450.0|\n",
            "|        556|       David2|david2@example.com|      400.0|\n",
            "|        510|         Jack|  jack@example.com|      300.0|\n",
            "|        520|          Tom|   tom@example.com|      280.0|\n",
            "|        526|         Zach|  zach@example.com|      264.0|\n",
            "+-----------+-------------+------------------+-----------+\n",
            "\n"
          ]
        }
      ]
    },
    {
      "cell_type": "code",
      "source": [
        "#SALES\n",
        "#1. Join Sales with Product Information (Inner Join)\n",
        "sales_product_df = sales_df.join(product_df, on=\"product_id\", how=\"inner\")\n",
        "sales_product_df.select(\"sale_id\", \"product_name\", \"category\", \"quantity\", \"price\").show(5)\n"
      ],
      "metadata": {
        "colab": {
          "base_uri": "https://localhost:8080/"
        },
        "id": "lvCpL2gav1fU",
        "outputId": "5dde435c-f0bd-4a50-9b39-b5798618e9a9"
      },
      "execution_count": 79,
      "outputs": [
        {
          "output_type": "stream",
          "name": "stdout",
          "text": [
            "+-------+------------+-------------+--------+-----+\n",
            "|sale_id|product_name|     category|quantity|price|\n",
            "+-------+------------+-------------+--------+-----+\n",
            "|   1001|    Widget A|      Gadgets|       3| 25.5|\n",
            "|   1002|    Widget B|      Gadgets|       2| 15.0|\n",
            "|   1003|    Widget C|  Electronics|       1| 30.0|\n",
            "|   1004|    Widget A|      Gadgets|       5| 25.5|\n",
            "|   1005|    Widget E|Home & Living|      10| 45.0|\n",
            "+-------+------------+-------------+--------+-----+\n",
            "only showing top 5 rows\n",
            "\n"
          ]
        }
      ]
    },
    {
      "cell_type": "code",
      "source": [
        "#2. Join Sales with Customer Information (Inner Join)\n",
        "sales_customer_df = sales_df.join(customer_df, on=\"customer_id\", how=\"inner\")\n",
        "sales_customer_df.select(\"sale_id\", \"customer_name\", \"email\", \"sale_date\", \"quantity\", \"price\").show(5)\n"
      ],
      "metadata": {
        "colab": {
          "base_uri": "https://localhost:8080/"
        },
        "id": "GCzDgk_kwPHO",
        "outputId": "36102c7a-d410-4517-e62e-a3aa46371367"
      },
      "execution_count": 81,
      "outputs": [
        {
          "output_type": "stream",
          "name": "stdout",
          "text": [
            "+-------+-------------+-------------------+-------------------+--------+-----+\n",
            "|sale_id|customer_name|              email|          sale_date|quantity|price|\n",
            "+-------+-------------+-------------------+-------------------+--------+-----+\n",
            "|   1001|        Alice|  alice@example.com|2025-07-10 08:23:00|       3| 25.5|\n",
            "|   1002|          Bob|    bob@example.com|2025-07-11 09:45:00|       2| 15.0|\n",
            "|   1003|      Charlie|charlie@example.com|2025-07-12 10:15:00|       1| 30.0|\n",
            "|   1004|        David|  david@example.com|2025-07-13 12:20:00|       5| 25.5|\n",
            "|   1005|         Emma|   emma@example.com|2025-07-14 14:35:00|      10| 45.0|\n",
            "+-------+-------------+-------------------+-------------------+--------+-----+\n",
            "only showing top 5 rows\n",
            "\n"
          ]
        }
      ]
    },
    {
      "cell_type": "code",
      "source": [
        "#3. Inner Join with Filter on Category (e.g., Gadgets)\n",
        "sales_gadgets_df = sales_df.join(product_df, on=\"product_id\", how=\"inner\") \\\n",
        "    .filter(product_df.category == \"Gadgets\")\n",
        "\n",
        "sales_gadgets_df.select(\"sale_id\", \"product_name\", \"category\", \"quantity\").show(5)\n"
      ],
      "metadata": {
        "colab": {
          "base_uri": "https://localhost:8080/"
        },
        "id": "mp8abuB4wkte",
        "outputId": "69bf3e1f-737d-4d07-949e-74fb531811eb"
      },
      "execution_count": 83,
      "outputs": [
        {
          "output_type": "stream",
          "name": "stdout",
          "text": [
            "+-------+------------+--------+--------+\n",
            "|sale_id|product_name|category|quantity|\n",
            "+-------+------------+--------+--------+\n",
            "|   1051|    Widget A| Gadgets|       3|\n",
            "|   1004|    Widget A| Gadgets|       5|\n",
            "|   1001|    Widget A| Gadgets|       3|\n",
            "|   1052|    Widget B| Gadgets|       4|\n",
            "|   1006|    Widget B| Gadgets|       4|\n",
            "+-------+------------+--------+--------+\n",
            "only showing top 5 rows\n",
            "\n"
          ]
        }
      ]
    },
    {
      "cell_type": "code",
      "source": [
        "#4. Left Join: All Sales Even Without Product Info\n",
        "left_join_df = sales_df.join(product_df, on=\"product_id\", how=\"left\")\n",
        "\n",
        "left_join_df.select(\"sale_id\", \"product_id\", \"product_name\", \"category\", \"quantity\").show(5)\n"
      ],
      "metadata": {
        "colab": {
          "base_uri": "https://localhost:8080/"
        },
        "id": "DGhVSWHIwx34",
        "outputId": "107c9524-ba13-4227-f690-52bab8ccc1b7"
      },
      "execution_count": 85,
      "outputs": [
        {
          "output_type": "stream",
          "name": "stdout",
          "text": [
            "+-------+----------+------------+-------------+--------+\n",
            "|sale_id|product_id|product_name|     category|quantity|\n",
            "+-------+----------+------------+-------------+--------+\n",
            "|   1001|       101|    Widget A|      Gadgets|       3|\n",
            "|   1002|       102|    Widget B|      Gadgets|       2|\n",
            "|   1003|       103|    Widget C|  Electronics|       1|\n",
            "|   1004|       101|    Widget A|      Gadgets|       5|\n",
            "|   1005|       105|    Widget E|Home & Living|      10|\n",
            "+-------+----------+------------+-------------+--------+\n",
            "only showing top 5 rows\n",
            "\n"
          ]
        }
      ]
    },
    {
      "cell_type": "code",
      "source": [
        "#5. Self-Join on sales_data (e.g., Compare Product Sales Across Dates)\n",
        "from pyspark.sql.functions import col\n",
        "\n",
        "sales_alias1 = sales_df.alias(\"s1\")\n",
        "sales_alias2 = sales_df.alias(\"s2\")\n",
        "\n",
        "self_join_df = sales_alias1.join(\n",
        "    sales_alias2,\n",
        "    (col(\"s1.product_id\") == col(\"s2.product_id\")) &\n",
        "    (col(\"s1.sale_date\") < col(\"s2.sale_date\"))\n",
        ").select(\n",
        "    col(\"s1.sale_id\").alias(\"sale_id_1\"),\n",
        "    col(\"s1.product_id\").alias(\"product_id\"),\n",
        "    col(\"s1.sale_date\").alias(\"sale_date_1\"),\n",
        "    col(\"s2.sale_id\").alias(\"sale_id_2\"),\n",
        "    col(\"s2.sale_date\").alias(\"sale_date_2\")\n",
        ")\n",
        "\n",
        "self_join_df.show()\n",
        "\n"
      ],
      "metadata": {
        "colab": {
          "base_uri": "https://localhost:8080/"
        },
        "id": "ze3CPpP_w4IC",
        "outputId": "058a7b66-80c0-4263-d8bc-b736a942009a"
      },
      "execution_count": 89,
      "outputs": [
        {
          "output_type": "stream",
          "name": "stdout",
          "text": [
            "+---------+----------+-------------------+---------+-------------------+\n",
            "|sale_id_1|product_id|        sale_date_1|sale_id_2|        sale_date_2|\n",
            "+---------+----------+-------------------+---------+-------------------+\n",
            "|     1001|       101|2025-07-10 08:23:00|     1051|2025-08-29 17:55:00|\n",
            "|     1001|       101|2025-07-10 08:23:00|     1004|2025-07-13 12:20:00|\n",
            "|     1002|       102|2025-07-11 09:45:00|     1052|2025-08-30 18:45:00|\n",
            "|     1002|       102|2025-07-11 09:45:00|     1006|2025-07-15 16:00:00|\n",
            "|     1003|       103|2025-07-12 10:15:00|     1053|2025-08-31 19:30:00|\n",
            "|     1004|       101|2025-07-13 12:20:00|     1051|2025-08-29 17:55:00|\n",
            "|     1005|       105|2025-07-14 14:35:00|     1055|2025-09-02 21:10:00|\n",
            "|     1006|       102|2025-07-15 16:00:00|     1052|2025-08-30 18:45:00|\n",
            "|     1007|       106|2025-07-16 17:10:00|     1056|2025-09-03 22:30:00|\n",
            "|     1008|       107|2025-07-17 18:25:00|     1057|2025-09-04 23:50:00|\n",
            "|     1009|       108|2025-07-18 19:30:00|     1058|2025-09-05 09:30:00|\n",
            "|     1010|       109|2025-07-19 20:45:00|     1059|2025-09-06 10:40:00|\n",
            "|     1011|       110|2025-07-20 21:55:00|     1060|2025-09-07 11:50:00|\n",
            "|     1012|       111|2025-07-21 22:30:00|     1061|2025-09-08 13:00:00|\n",
            "|     1013|       112|2025-07-22 23:40:00|     1062|2025-09-09 14:10:00|\n",
            "|     1014|       113|2025-07-23 09:15:00|     1063|2025-09-10 15:25:00|\n",
            "|     1015|       114|2025-07-24 10:35:00|     1064|2025-09-11 16:35:00|\n",
            "|     1016|       115|2025-07-25 11:45:00|     1065|2025-09-12 17:45:00|\n",
            "|     1017|       116|2025-07-26 13:00:00|     1066|2025-09-13 18:55:00|\n",
            "|     1018|       117|2025-07-27 14:15:00|     1067|2025-09-14 20:00:00|\n",
            "+---------+----------+-------------------+---------+-------------------+\n",
            "only showing top 20 rows\n",
            "\n"
          ]
        }
      ]
    },
    {
      "cell_type": "code",
      "source": [
        "#7. Join All Three: Sales + Product + Customer\n",
        "full_sales_df = sales_df \\\n",
        "    .join(product_df, on=\"product_id\", how=\"inner\") \\\n",
        "    .join(customer_df, on=\"customer_id\", how=\"inner\")\n",
        "\n",
        "full_sales_df.select(\"sale_id\", \"customer_name\", \"product_name\", \"category\", \"sale_date\", \"quantity\", \"price\").show(5)\n"
      ],
      "metadata": {
        "colab": {
          "base_uri": "https://localhost:8080/"
        },
        "id": "zMnLkgDmw7WU",
        "outputId": "b3efbb82-929c-4d6a-8135-875dd1e669b9"
      },
      "execution_count": 91,
      "outputs": [
        {
          "output_type": "stream",
          "name": "stdout",
          "text": [
            "+-------+-------------+------------+-------------+-------------------+--------+-----+\n",
            "|sale_id|customer_name|product_name|     category|          sale_date|quantity|price|\n",
            "+-------+-------------+------------+-------------+-------------------+--------+-----+\n",
            "|   1001|        Alice|    Widget A|      Gadgets|2025-07-10 08:23:00|       3| 25.5|\n",
            "|   1002|          Bob|    Widget B|      Gadgets|2025-07-11 09:45:00|       2| 15.0|\n",
            "|   1003|      Charlie|    Widget C|  Electronics|2025-07-12 10:15:00|       1| 30.0|\n",
            "|   1004|        David|    Widget A|      Gadgets|2025-07-13 12:20:00|       5| 25.5|\n",
            "|   1005|         Emma|    Widget E|Home & Living|2025-07-14 14:35:00|      10| 45.0|\n",
            "+-------+-------------+------------+-------------+-------------------+--------+-----+\n",
            "only showing top 5 rows\n",
            "\n"
          ]
        }
      ]
    },
    {
      "cell_type": "code",
      "source": [
        "#3. Additional Transformations:\n",
        "# Step 1: Filter Sales Between 2025-07-10 and 2025-07-15\n",
        "from pyspark.sql.functions import col\n",
        "\n",
        "filtered_sales_df = sales_df.filter(\n",
        "    (col(\"sale_date\") >= \"2025-07-10\") &\n",
        "    (col(\"sale_date\") <= \"2025-07-15\")\n",
        ")\n",
        "\n",
        "filtered_sales_df.show(truncate=False)\n",
        "\n"
      ],
      "metadata": {
        "colab": {
          "base_uri": "https://localhost:8080/"
        },
        "id": "Y1rHKsmHyAj7",
        "outputId": "ede15cfe-90c0-4535-8e77-0630e5aac3ba"
      },
      "execution_count": 93,
      "outputs": [
        {
          "output_type": "stream",
          "name": "stdout",
          "text": [
            "+-------+----------+-----------+-------------------+--------+-----+------------+\n",
            "|sale_id|product_id|customer_id|sale_date          |quantity|price|total_amount|\n",
            "+-------+----------+-----------+-------------------+--------+-----+------------+\n",
            "|1001   |101       |501        |2025-07-10 08:23:00|3       |25.5 |76.5        |\n",
            "|1002   |102       |502        |2025-07-11 09:45:00|2       |15.0 |30.0        |\n",
            "|1003   |103       |503        |2025-07-12 10:15:00|1       |30.0 |30.0        |\n",
            "|1004   |101       |504        |2025-07-13 12:20:00|5       |25.5 |127.5       |\n",
            "|1005   |105       |505        |2025-07-14 14:35:00|10      |45.0 |450.0       |\n",
            "+-------+----------+-----------+-------------------+--------+-----+------------+\n",
            "\n"
          ]
        }
      ]
    },
    {
      "cell_type": "code",
      "source": [
        "#Step 2: Top 5 Customers by Total Spend\n",
        "from pyspark.sql.functions import sum as _sum, col, desc\n",
        "\n",
        "# Step 1: Calculate total_spent per sale\n",
        "sales_with_total = sales_df.withColumn(\"total_spent\", col(\"quantity\") * col(\"price\"))\n",
        "\n",
        "# Step 2: Join with customer info\n",
        "sales_customer = sales_with_total.join(customer_df, on=\"customer_id\", how=\"inner\")\n",
        "\n",
        "# Step 3: Group by customer and sum total_spent\n",
        "customer_spend = sales_customer.groupBy(\"customer_id\", \"customer_name\").agg(\n",
        "    _sum(\"total_spent\").alias(\"total_spent\")\n",
        ")\n",
        "\n",
        "# Step 4: Get Top 5 customers\n",
        "top5_customers = customer_spend.orderBy(desc(\"total_spent\")).limit(5)\n",
        "\n",
        "top5_customers.show(truncate=False)\n"
      ],
      "metadata": {
        "colab": {
          "base_uri": "https://localhost:8080/"
        },
        "id": "7R8udOOvyH6m",
        "outputId": "a62b97aa-2dc8-4359-e70d-cc0c4eb4f1b5"
      },
      "execution_count": 95,
      "outputs": [
        {
          "output_type": "stream",
          "name": "stdout",
          "text": [
            "+-----------+-------------+-----------+\n",
            "|customer_id|customer_name|total_spent|\n",
            "+-----------+-------------+-----------+\n",
            "|505        |Emma         |450.0      |\n",
            "|556        |David2       |400.0      |\n",
            "|510        |Jack         |300.0      |\n",
            "|520        |Tom          |280.0      |\n",
            "|526        |Zach         |264.0      |\n",
            "+-----------+-------------+-----------+\n",
            "\n"
          ]
        }
      ]
    },
    {
      "cell_type": "code",
      "source": [
        "# Step 3: Categorizing Customers Based on Spend\n",
        "from pyspark.sql.functions import when\n",
        "\n",
        "# Reuse the customer_spend DataFrame from previous step\n",
        "categorized_customers = customer_spend.withColumn(\n",
        "    \"spend_category\",\n",
        "    when(col(\"total_spent\") < 500, \"Low\")\n",
        "    .when((col(\"total_spent\") >= 500) & (col(\"total_spent\") < 1500), \"Medium\")\n",
        "    .otherwise(\"High\")\n",
        ")\n",
        "\n",
        "categorized_customers.show(truncate=False)\n"
      ],
      "metadata": {
        "colab": {
          "base_uri": "https://localhost:8080/"
        },
        "id": "ctPjh1wfyQhX",
        "outputId": "7baf5147-4729-498a-a705-3f06c6006dcd"
      },
      "execution_count": 97,
      "outputs": [
        {
          "output_type": "stream",
          "name": "stdout",
          "text": [
            "+-----------+-------------+-----------+--------------+\n",
            "|customer_id|customer_name|total_spent|spend_category|\n",
            "+-----------+-------------+-----------+--------------+\n",
            "|550        |Xena         |50.0       |Low           |\n",
            "|501        |Alice        |76.5       |Low           |\n",
            "|523        |Wendy        |100.0      |Low           |\n",
            "|532        |Freddy       |236.0      |Low           |\n",
            "|539        |Monica       |210.0      |Low           |\n",
            "|540        |Nash         |55.5       |Low           |\n",
            "|519        |Sara         |111.0      |Low           |\n",
            "|502        |Bob          |30.0       |Low           |\n",
            "|526        |Zach         |264.0      |Low           |\n",
            "|528        |Bella        |70.0       |Low           |\n",
            "|554        |Bob2         |200.0      |Low           |\n",
            "|546        |Theo         |90.0       |Low           |\n",
            "|516        |Paul         |128.0      |Low           |\n",
            "|545        |Sophia       |91.5       |Low           |\n",
            "|544        |Rob          |84.0       |Low           |\n",
            "|534        |Harry        |115.5      |Low           |\n",
            "|524        |Xander       |139.5      |Low           |\n",
            "|517        |Quinn        |140.0      |Low           |\n",
            "|529        |Clara        |90.0       |Low           |\n",
            "|503        |Charlie      |30.0       |Low           |\n",
            "+-----------+-------------+-----------+--------------+\n",
            "only showing top 20 rows\n",
            "\n"
          ]
        }
      ]
    },
    {
      "cell_type": "code",
      "source": [
        "#Step 4: Finding the First and Last Purchase Date per Customer\n",
        "from pyspark.sql.functions import min, max\n",
        "\n",
        "# Get first and last purchase date for each customer\n",
        "purchase_range_df = sales_df.groupBy(\"customer_id\").agg(\n",
        "    min(\"sale_date\").alias(\"first_purchase\"),\n",
        "    max(\"sale_date\").alias(\"last_purchase\")\n",
        ")\n",
        "\n",
        "purchase_range_df.show(truncate=False)\n",
        "\n"
      ],
      "metadata": {
        "colab": {
          "base_uri": "https://localhost:8080/"
        },
        "id": "EIgvSZRpyYii",
        "outputId": "b6fcc334-050a-402d-e5a9-fa865c5c78ef"
      },
      "execution_count": 99,
      "outputs": [
        {
          "output_type": "stream",
          "name": "stdout",
          "text": [
            "+-----------+-------------------+-------------------+\n",
            "|customer_id|first_purchase     |last_purchase      |\n",
            "+-----------+-------------------+-------------------+\n",
            "|540        |2025-08-18 21:25:00|2025-08-18 21:25:00|\n",
            "|516        |2025-07-25 11:45:00|2025-07-25 11:45:00|\n",
            "|513        |2025-07-22 23:40:00|2025-07-22 23:40:00|\n",
            "|530        |2025-08-08 11:00:00|2025-08-08 11:00:00|\n",
            "|501        |2025-07-10 08:23:00|2025-07-10 08:23:00|\n",
            "|548        |2025-08-26 14:25:00|2025-08-26 14:25:00|\n",
            "|539        |2025-08-17 20:15:00|2025-08-17 20:15:00|\n",
            "|519        |2025-07-28 15:30:00|2025-07-28 15:30:00|\n",
            "|556        |2025-09-03 22:30:00|2025-09-03 22:30:00|\n",
            "|512        |2025-07-21 22:30:00|2025-07-21 22:30:00|\n",
            "|570        |2025-09-17 23:00:00|2025-09-17 23:00:00|\n",
            "|559        |2025-09-06 10:40:00|2025-09-06 10:40:00|\n",
            "|545        |2025-08-23 11:40:00|2025-08-23 11:40:00|\n",
            "|507        |2025-07-16 17:10:00|2025-07-16 17:10:00|\n",
            "|544        |2025-08-22 10:30:00|2025-08-22 10:30:00|\n",
            "|542        |2025-08-20 23:10:00|2025-08-20 23:10:00|\n",
            "|553        |2025-08-31 19:30:00|2025-08-31 19:30:00|\n",
            "|560        |2025-09-07 11:50:00|2025-09-07 11:50:00|\n",
            "|504        |2025-07-13 12:20:00|2025-07-13 12:20:00|\n",
            "|554        |2025-09-01 20:40:00|2025-09-01 20:40:00|\n",
            "+-----------+-------------------+-------------------+\n",
            "only showing top 20 rows\n",
            "\n"
          ]
        }
      ]
    },
    {
      "cell_type": "code",
      "source": [
        "#Step 5: Customer Churn – Customers Who Haven’t Purchased in the Last 30 Days\n",
        "\n",
        "from pyspark.sql.functions import col, to_date, lit\n",
        "from datetime import datetime, timedelta\n",
        "\n",
        "# Step 1: Define the cutoff date\n",
        "today = datetime.strptime(\"2025-07-28\", \"%Y-%m-%d\")\n",
        "cutoff_date = (today - timedelta(days=30)).strftime(\"%Y-%m-%d\")\n",
        "\n",
        "# Step 2: Reuse the last_purchase dataframe if needed\n",
        "# If not available, regenerate:\n",
        "last_purchase_df = sales_df.groupBy(\"customer_id\").agg(\n",
        "    max(\"sale_date\").alias(\"last_purchase\")\n",
        ")\n",
        "\n",
        "# Step 3: Filter customers who haven't purchased in the last 30 days\n",
        "churned_customers_df = last_purchase_df.filter(\n",
        "    col(\"last_purchase\") < lit(cutoff_date)\n",
        ")\n",
        "\n",
        "churned_customers_df.show(truncate=False)\n"
      ],
      "metadata": {
        "colab": {
          "base_uri": "https://localhost:8080/"
        },
        "id": "z6aA-SWByfh8",
        "outputId": "7b3f5057-3959-4d18-b221-0f8d05052bc6"
      },
      "execution_count": 100,
      "outputs": [
        {
          "output_type": "stream",
          "name": "stdout",
          "text": [
            "+-----------+-------------+\n",
            "|customer_id|last_purchase|\n",
            "+-----------+-------------+\n",
            "+-----------+-------------+\n",
            "\n"
          ]
        }
      ]
    }
  ]
}