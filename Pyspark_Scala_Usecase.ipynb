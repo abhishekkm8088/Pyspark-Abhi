{
  "nbformat": 4,
  "nbformat_minor": 0,
  "metadata": {
    "colab": {
      "provenance": [],
      "authorship_tag": "ABX9TyNJyOIPMUkSjvE+OitM2Pjl",
      "include_colab_link": true
    },
    "kernelspec": {
      "name": "python3",
      "display_name": "Python 3"
    },
    "language_info": {
      "name": "python"
    }
  },
  "cells": [
    {
      "cell_type": "markdown",
      "metadata": {
        "id": "view-in-github",
        "colab_type": "text"
      },
      "source": [
        "<a href=\"https://colab.research.google.com/github/abhishekkm8088/Pyspark-Abhi/blob/main/Pyspark_Scala_Usecase.ipynb\" target=\"_parent\"><img src=\"https://colab.research.google.com/assets/colab-badge.svg\" alt=\"Open In Colab\"/></a>"
      ]
    },
    {
      "cell_type": "markdown",
      "source": [
        "##1. Spark Environment Setup"
      ],
      "metadata": {
        "id": "mkmZiXdZJUzk"
      }
    },
    {
      "cell_type": "code",
      "execution_count": 1,
      "metadata": {
        "id": "f46ppppUJSu9"
      },
      "outputs": [],
      "source": [
        "!apt-get install openjdk-11-jdk-headless -qq > /dev/null\n",
        "!wget -q https://archive.apache.org/dist/spark/spark-3.3.2/spark-3.3.2-bin-hadoop3.tgz\n",
        "!tar xf spark-3.3.2-bin-hadoop3.tgz\n",
        "!pip install -q findspark\n",
        "\n",
        "import os, findspark\n",
        "os.environ[\"JAVA_HOME\"] = \"/usr/lib/jvm/java-11-openjdk-amd64\"\n",
        "os.environ[\"SPARK_HOME\"] = \"/content/spark-3.3.2-bin-hadoop3\"\n",
        "findspark.init()\n"
      ]
    },
    {
      "cell_type": "code",
      "source": [
        "from google.colab import files\n",
        "uploaded = files.upload()"
      ],
      "metadata": {
        "colab": {
          "base_uri": "https://localhost:8080/",
          "height": 320
        },
        "id": "VMw8deBvJfys",
        "outputId": "b8365a8e-a97f-4fef-be8d-e10784cbeeca"
      },
      "execution_count": 2,
      "outputs": [
        {
          "output_type": "display_data",
          "data": {
            "text/plain": [
              "<IPython.core.display.HTML object>"
            ],
            "text/html": [
              "\n",
              "     <input type=\"file\" id=\"files-15617ddc-2cee-40c8-930e-24f9e29804fd\" name=\"files[]\" multiple disabled\n",
              "        style=\"border:none\" />\n",
              "     <output id=\"result-15617ddc-2cee-40c8-930e-24f9e29804fd\">\n",
              "      Upload widget is only available when the cell has been executed in the\n",
              "      current browser session. Please rerun this cell to enable.\n",
              "      </output>\n",
              "      <script>// Copyright 2017 Google LLC\n",
              "//\n",
              "// Licensed under the Apache License, Version 2.0 (the \"License\");\n",
              "// you may not use this file except in compliance with the License.\n",
              "// You may obtain a copy of the License at\n",
              "//\n",
              "//      http://www.apache.org/licenses/LICENSE-2.0\n",
              "//\n",
              "// Unless required by applicable law or agreed to in writing, software\n",
              "// distributed under the License is distributed on an \"AS IS\" BASIS,\n",
              "// WITHOUT WARRANTIES OR CONDITIONS OF ANY KIND, either express or implied.\n",
              "// See the License for the specific language governing permissions and\n",
              "// limitations under the License.\n",
              "\n",
              "/**\n",
              " * @fileoverview Helpers for google.colab Python module.\n",
              " */\n",
              "(function(scope) {\n",
              "function span(text, styleAttributes = {}) {\n",
              "  const element = document.createElement('span');\n",
              "  element.textContent = text;\n",
              "  for (const key of Object.keys(styleAttributes)) {\n",
              "    element.style[key] = styleAttributes[key];\n",
              "  }\n",
              "  return element;\n",
              "}\n",
              "\n",
              "// Max number of bytes which will be uploaded at a time.\n",
              "const MAX_PAYLOAD_SIZE = 100 * 1024;\n",
              "\n",
              "function _uploadFiles(inputId, outputId) {\n",
              "  const steps = uploadFilesStep(inputId, outputId);\n",
              "  const outputElement = document.getElementById(outputId);\n",
              "  // Cache steps on the outputElement to make it available for the next call\n",
              "  // to uploadFilesContinue from Python.\n",
              "  outputElement.steps = steps;\n",
              "\n",
              "  return _uploadFilesContinue(outputId);\n",
              "}\n",
              "\n",
              "// This is roughly an async generator (not supported in the browser yet),\n",
              "// where there are multiple asynchronous steps and the Python side is going\n",
              "// to poll for completion of each step.\n",
              "// This uses a Promise to block the python side on completion of each step,\n",
              "// then passes the result of the previous step as the input to the next step.\n",
              "function _uploadFilesContinue(outputId) {\n",
              "  const outputElement = document.getElementById(outputId);\n",
              "  const steps = outputElement.steps;\n",
              "\n",
              "  const next = steps.next(outputElement.lastPromiseValue);\n",
              "  return Promise.resolve(next.value.promise).then((value) => {\n",
              "    // Cache the last promise value to make it available to the next\n",
              "    // step of the generator.\n",
              "    outputElement.lastPromiseValue = value;\n",
              "    return next.value.response;\n",
              "  });\n",
              "}\n",
              "\n",
              "/**\n",
              " * Generator function which is called between each async step of the upload\n",
              " * process.\n",
              " * @param {string} inputId Element ID of the input file picker element.\n",
              " * @param {string} outputId Element ID of the output display.\n",
              " * @return {!Iterable<!Object>} Iterable of next steps.\n",
              " */\n",
              "function* uploadFilesStep(inputId, outputId) {\n",
              "  const inputElement = document.getElementById(inputId);\n",
              "  inputElement.disabled = false;\n",
              "\n",
              "  const outputElement = document.getElementById(outputId);\n",
              "  outputElement.innerHTML = '';\n",
              "\n",
              "  const pickedPromise = new Promise((resolve) => {\n",
              "    inputElement.addEventListener('change', (e) => {\n",
              "      resolve(e.target.files);\n",
              "    });\n",
              "  });\n",
              "\n",
              "  const cancel = document.createElement('button');\n",
              "  inputElement.parentElement.appendChild(cancel);\n",
              "  cancel.textContent = 'Cancel upload';\n",
              "  const cancelPromise = new Promise((resolve) => {\n",
              "    cancel.onclick = () => {\n",
              "      resolve(null);\n",
              "    };\n",
              "  });\n",
              "\n",
              "  // Wait for the user to pick the files.\n",
              "  const files = yield {\n",
              "    promise: Promise.race([pickedPromise, cancelPromise]),\n",
              "    response: {\n",
              "      action: 'starting',\n",
              "    }\n",
              "  };\n",
              "\n",
              "  cancel.remove();\n",
              "\n",
              "  // Disable the input element since further picks are not allowed.\n",
              "  inputElement.disabled = true;\n",
              "\n",
              "  if (!files) {\n",
              "    return {\n",
              "      response: {\n",
              "        action: 'complete',\n",
              "      }\n",
              "    };\n",
              "  }\n",
              "\n",
              "  for (const file of files) {\n",
              "    const li = document.createElement('li');\n",
              "    li.append(span(file.name, {fontWeight: 'bold'}));\n",
              "    li.append(span(\n",
              "        `(${file.type || 'n/a'}) - ${file.size} bytes, ` +\n",
              "        `last modified: ${\n",
              "            file.lastModifiedDate ? file.lastModifiedDate.toLocaleDateString() :\n",
              "                                    'n/a'} - `));\n",
              "    const percent = span('0% done');\n",
              "    li.appendChild(percent);\n",
              "\n",
              "    outputElement.appendChild(li);\n",
              "\n",
              "    const fileDataPromise = new Promise((resolve) => {\n",
              "      const reader = new FileReader();\n",
              "      reader.onload = (e) => {\n",
              "        resolve(e.target.result);\n",
              "      };\n",
              "      reader.readAsArrayBuffer(file);\n",
              "    });\n",
              "    // Wait for the data to be ready.\n",
              "    let fileData = yield {\n",
              "      promise: fileDataPromise,\n",
              "      response: {\n",
              "        action: 'continue',\n",
              "      }\n",
              "    };\n",
              "\n",
              "    // Use a chunked sending to avoid message size limits. See b/62115660.\n",
              "    let position = 0;\n",
              "    do {\n",
              "      const length = Math.min(fileData.byteLength - position, MAX_PAYLOAD_SIZE);\n",
              "      const chunk = new Uint8Array(fileData, position, length);\n",
              "      position += length;\n",
              "\n",
              "      const base64 = btoa(String.fromCharCode.apply(null, chunk));\n",
              "      yield {\n",
              "        response: {\n",
              "          action: 'append',\n",
              "          file: file.name,\n",
              "          data: base64,\n",
              "        },\n",
              "      };\n",
              "\n",
              "      let percentDone = fileData.byteLength === 0 ?\n",
              "          100 :\n",
              "          Math.round((position / fileData.byteLength) * 100);\n",
              "      percent.textContent = `${percentDone}% done`;\n",
              "\n",
              "    } while (position < fileData.byteLength);\n",
              "  }\n",
              "\n",
              "  // All done.\n",
              "  yield {\n",
              "    response: {\n",
              "      action: 'complete',\n",
              "    }\n",
              "  };\n",
              "}\n",
              "\n",
              "scope.google = scope.google || {};\n",
              "scope.google.colab = scope.google.colab || {};\n",
              "scope.google.colab._files = {\n",
              "  _uploadFiles,\n",
              "  _uploadFilesContinue,\n",
              "};\n",
              "})(self);\n",
              "</script> "
            ]
          },
          "metadata": {}
        },
        {
          "output_type": "stream",
          "name": "stdout",
          "text": [
            "Saving customers.csv to customers.csv\n",
            "Saving employees.csv to employees.csv\n",
            "Saving offices.csv to offices.csv\n",
            "Saving orderdetails.csv to orderdetails.csv\n",
            "Saving orders.csv to orders.csv\n",
            "Saving payments.csv to payments.csv\n",
            "Saving productlines.csv to productlines.csv\n",
            "Saving products.csv to products.csv\n"
          ]
        }
      ]
    },
    {
      "cell_type": "code",
      "source": [
        "from pyspark.sql import SparkSession\n",
        "\n",
        "spark = SparkSession.builder \\\n",
        "    .appName(\"SparkColabSetup\") \\\n",
        "    .getOrCreate()\n",
        "\n",
        "# Check version\n",
        "print(\"✅ Spark Version:\", spark.version)"
      ],
      "metadata": {
        "colab": {
          "base_uri": "https://localhost:8080/"
        },
        "id": "HjptMXsfKFWe",
        "outputId": "f9c5d316-da78-47f0-d5b9-a82e94ec497c"
      },
      "execution_count": 3,
      "outputs": [
        {
          "output_type": "stream",
          "name": "stdout",
          "text": [
            "✅ Spark Version: 3.3.2\n"
          ]
        }
      ]
    },
    {
      "cell_type": "code",
      "source": [
        "# Example for loading and printing schema\n",
        "products_df = spark.read.csv(\"/content/products.csv\", header=True, inferSchema=True)\n",
        "products_df.printSchema()\n",
        "customers_df = spark.read.csv(\"/content/customers.csv\",header=True,inferSchema=True)\n",
        "customers_df.printSchema()\n",
        "orders_df = spark.read.csv(\"/content/orders.csv\",header=True,inferSchema=True)\n",
        "orders_df.printSchema()\n",
        "od_df = spark.read.csv(\"/content/orderdetails.csv\",header=True,inferSchema=True)\n",
        "od_df.printSchema()\n",
        "offices_df = spark.read.csv(\"/content/offices.csv\",header=True,inferSchema=True)\n",
        "offices_df.printSchema()\n",
        "employees_df = spark.read.csv(\"/content/employees.csv\",header=True,inferSchema=True)\n",
        "employees_df.printSchema()\n",
        "payments_df = spark.read.csv(\"/content/payments.csv\",header=True,inferSchema=True)\n",
        "payments_df.printSchema()\n",
        "pl_df = spark.read.csv(\"/content/productlines.csv\",header=True,inferSchema=True)\n",
        "pl_df.printSchema()"
      ],
      "metadata": {
        "colab": {
          "base_uri": "https://localhost:8080/"
        },
        "id": "Latqi4kLK-WA",
        "outputId": "59b1f2d2-0fcd-472e-fe32-a97a5195bdad"
      },
      "execution_count": 4,
      "outputs": [
        {
          "output_type": "stream",
          "name": "stdout",
          "text": [
            "root\n",
            " |-- productCode: string (nullable = true)\n",
            " |-- productName: string (nullable = true)\n",
            " |-- productLine: string (nullable = true)\n",
            " |-- productScale: string (nullable = true)\n",
            " |-- productVendor: string (nullable = true)\n",
            " |-- productDescription: string (nullable = true)\n",
            " |-- quantityInStock: string (nullable = true)\n",
            " |-- buyPrice: string (nullable = true)\n",
            " |-- MSRP: string (nullable = true)\n",
            "\n",
            "root\n",
            " |-- customerNumber: integer (nullable = true)\n",
            " |-- customerName: string (nullable = true)\n",
            " |-- contactLastName: string (nullable = true)\n",
            " |-- contactFirstName: string (nullable = true)\n",
            " |-- phone: string (nullable = true)\n",
            " |-- addressLine1: string (nullable = true)\n",
            " |-- addressLine2: string (nullable = true)\n",
            " |-- city: string (nullable = true)\n",
            " |-- state: string (nullable = true)\n",
            " |-- postalCode: string (nullable = true)\n",
            " |-- country: string (nullable = true)\n",
            " |-- salesRepEmployeeNumber: double (nullable = true)\n",
            " |-- creditLimit: double (nullable = true)\n",
            "\n",
            "root\n",
            " |-- orderNumber: integer (nullable = true)\n",
            " |-- orderDate: timestamp (nullable = true)\n",
            " |-- requiredDate: timestamp (nullable = true)\n",
            " |-- shippedDate: timestamp (nullable = true)\n",
            " |-- status: string (nullable = true)\n",
            " |-- comments: string (nullable = true)\n",
            " |-- customerNumber: integer (nullable = true)\n",
            "\n",
            "root\n",
            " |-- orderNumber: integer (nullable = true)\n",
            " |-- productCode: string (nullable = true)\n",
            " |-- quantityOrdered: integer (nullable = true)\n",
            " |-- priceEach: double (nullable = true)\n",
            " |-- orderLineNumber: integer (nullable = true)\n",
            "\n",
            "root\n",
            " |-- officeCode: integer (nullable = true)\n",
            " |-- city: string (nullable = true)\n",
            " |-- phone: string (nullable = true)\n",
            " |-- addressLine1: string (nullable = true)\n",
            " |-- addressLine2: string (nullable = true)\n",
            " |-- state: string (nullable = true)\n",
            " |-- country: string (nullable = true)\n",
            " |-- postalCode: string (nullable = true)\n",
            " |-- territory: string (nullable = true)\n",
            "\n",
            "root\n",
            " |-- employeeNumber: integer (nullable = true)\n",
            " |-- lastName: string (nullable = true)\n",
            " |-- firstName: string (nullable = true)\n",
            " |-- extension: string (nullable = true)\n",
            " |-- email: string (nullable = true)\n",
            " |-- officeCode: integer (nullable = true)\n",
            " |-- reportsTo: double (nullable = true)\n",
            " |-- jobTitle: string (nullable = true)\n",
            "\n",
            "root\n",
            " |-- customerNumber: integer (nullable = true)\n",
            " |-- checkNumber: string (nullable = true)\n",
            " |-- paymentDate: timestamp (nullable = true)\n",
            " |-- amount: double (nullable = true)\n",
            "\n",
            "root\n",
            " |-- productLine: string (nullable = true)\n",
            " |-- textDescription: string (nullable = true)\n",
            " |-- htmlDescription: string (nullable = true)\n",
            " |-- image: string (nullable = true)\n",
            "\n"
          ]
        }
      ]
    },
    {
      "cell_type": "code",
      "source": [
        "joined_df=orders_df.join(od_df , orders_df['orderNumber']==od_df['orderNumber'])\n",
        "joined_df.show()"
      ],
      "metadata": {
        "colab": {
          "base_uri": "https://localhost:8080/"
        },
        "id": "DZJX8XjSLFeS",
        "outputId": "63b44900-a3c4-4748-89d4-7ba0334f43e8"
      },
      "execution_count": 5,
      "outputs": [
        {
          "output_type": "stream",
          "name": "stdout",
          "text": [
            "+-----------+-------------------+-------------------+-------------------+-------+--------------------+--------------+-----------+-----------+---------------+---------+---------------+\n",
            "|orderNumber|          orderDate|       requiredDate|        shippedDate| status|            comments|customerNumber|orderNumber|productCode|quantityOrdered|priceEach|orderLineNumber|\n",
            "+-----------+-------------------+-------------------+-------------------+-------+--------------------+--------------+-----------+-----------+---------------+---------+---------------+\n",
            "|      10100|2003-01-06 00:00:00|2003-01-13 00:00:00|2003-01-10 00:00:00|Shipped|                null|           363|      10100|   S18_1749|             30|    136.0|              3|\n",
            "|      10100|2003-01-06 00:00:00|2003-01-13 00:00:00|2003-01-10 00:00:00|Shipped|                null|           363|      10100|   S18_2248|             50|    55.09|              2|\n",
            "|      10100|2003-01-06 00:00:00|2003-01-13 00:00:00|2003-01-10 00:00:00|Shipped|                null|           363|      10100|   S18_4409|             22|    75.46|              4|\n",
            "|      10100|2003-01-06 00:00:00|2003-01-13 00:00:00|2003-01-10 00:00:00|Shipped|                null|           363|      10100|   S24_3969|             49|    35.29|              1|\n",
            "|      10101|2003-01-09 00:00:00|2003-01-18 00:00:00|2003-01-11 00:00:00|Shipped|Check on availabi...|           128|      10101|   S18_2325|             25|   108.06|              4|\n",
            "|      10101|2003-01-09 00:00:00|2003-01-18 00:00:00|2003-01-11 00:00:00|Shipped|Check on availabi...|           128|      10101|   S18_2795|             26|   167.06|              1|\n",
            "|      10101|2003-01-09 00:00:00|2003-01-18 00:00:00|2003-01-11 00:00:00|Shipped|Check on availabi...|           128|      10101|   S24_1937|             45|    32.53|              3|\n",
            "|      10101|2003-01-09 00:00:00|2003-01-18 00:00:00|2003-01-11 00:00:00|Shipped|Check on availabi...|           128|      10101|   S24_2022|             46|    44.35|              2|\n",
            "|      10102|2003-01-10 00:00:00|2003-01-18 00:00:00|2003-01-14 00:00:00|Shipped|                null|           181|      10102|   S18_1342|             39|    95.55|              2|\n",
            "|      10102|2003-01-10 00:00:00|2003-01-18 00:00:00|2003-01-14 00:00:00|Shipped|                null|           181|      10102|   S18_1367|             41|    43.13|              1|\n",
            "|      10103|2003-01-29 00:00:00|2003-02-07 00:00:00|2003-02-02 00:00:00|Shipped|                null|           121|      10103|   S10_1949|             26|    214.3|             11|\n",
            "|      10103|2003-01-29 00:00:00|2003-02-07 00:00:00|2003-02-02 00:00:00|Shipped|                null|           121|      10103|   S10_4962|             42|   119.67|              4|\n",
            "|      10103|2003-01-29 00:00:00|2003-02-07 00:00:00|2003-02-02 00:00:00|Shipped|                null|           121|      10103|   S12_1666|             27|   121.64|              8|\n",
            "|      10103|2003-01-29 00:00:00|2003-02-07 00:00:00|2003-02-02 00:00:00|Shipped|                null|           121|      10103|   S18_1097|             35|     94.5|             10|\n",
            "|      10103|2003-01-29 00:00:00|2003-02-07 00:00:00|2003-02-02 00:00:00|Shipped|                null|           121|      10103|   S18_2432|             22|    58.34|              2|\n",
            "|      10103|2003-01-29 00:00:00|2003-02-07 00:00:00|2003-02-02 00:00:00|Shipped|                null|           121|      10103|   S18_2949|             27|    92.19|             12|\n",
            "|      10103|2003-01-29 00:00:00|2003-02-07 00:00:00|2003-02-02 00:00:00|Shipped|                null|           121|      10103|   S18_2957|             35|    61.84|             14|\n",
            "|      10103|2003-01-29 00:00:00|2003-02-07 00:00:00|2003-02-02 00:00:00|Shipped|                null|           121|      10103|   S18_3136|             25|    86.92|             13|\n",
            "|      10103|2003-01-29 00:00:00|2003-02-07 00:00:00|2003-02-02 00:00:00|Shipped|                null|           121|      10103|   S18_3320|             46|    86.31|             16|\n",
            "|      10103|2003-01-29 00:00:00|2003-02-07 00:00:00|2003-02-02 00:00:00|Shipped|                null|           121|      10103|   S18_4600|             36|    98.07|              5|\n",
            "+-----------+-------------------+-------------------+-------------------+-------+--------------------+--------------+-----------+-----------+---------------+---------+---------------+\n",
            "only showing top 20 rows\n",
            "\n"
          ]
        }
      ]
    },
    {
      "cell_type": "markdown",
      "source": [
        "##2. DataFrames and Tables Creation"
      ],
      "metadata": {
        "id": "Ju8xEW72LjAs"
      }
    },
    {
      "cell_type": "code",
      "source": [
        "import os\n",
        "import findspark\n",
        "\n",
        "os.environ[\"JAVA_HOME\"] = \"/usr/lib/jvm/java-11-openjdk-amd64\"\n",
        "os.environ[\"SPARK_HOME\"] = \"/content/spark-3.3.2-bin-hadoop3\"\n",
        "\n",
        "findspark.init()\n",
        "\n",
        "from pyspark.sql import SparkSession\n",
        "\n",
        "spark = SparkSession.builder \\\n",
        "    .appName(\"SparkDFExample\") \\\n",
        "    .getOrCreate()\n"
      ],
      "metadata": {
        "id": "b1JRheCMLSYd"
      },
      "execution_count": 6,
      "outputs": []
    },
    {
      "cell_type": "code",
      "source": [
        "products_df.createOrReplaceTempView('products')\n",
        "customers_df.createOrReplaceTempView('customers')\n",
        "orders_df.createOrReplaceTempView('orders')"
      ],
      "metadata": {
        "id": "9awHQD23LmvH"
      },
      "execution_count": 7,
      "outputs": []
    },
    {
      "cell_type": "code",
      "source": [
        "spark.sql(\"SELECT * FROM products\").show(110)"
      ],
      "metadata": {
        "colab": {
          "base_uri": "https://localhost:8080/"
        },
        "id": "3cwdFbQzLps8",
        "outputId": "6cfa3007-c077-490f-af03-72aa7fbb634c"
      },
      "execution_count": 8,
      "outputs": [
        {
          "output_type": "stream",
          "name": "stdout",
          "text": [
            "+-----------+--------------------+----------------+------------+--------------------+--------------------+--------------------+--------------------+---------------+\n",
            "|productCode|         productName|     productLine|productScale|       productVendor|  productDescription|     quantityInStock|            buyPrice|           MSRP|\n",
            "+-----------+--------------------+----------------+------------+--------------------+--------------------+--------------------+--------------------+---------------+\n",
            "|   S10_1678|1969 Harley David...|     Motorcycles|        1:10|     Min Lin Diecast|This replica feat...|                7933|               48.81|           95.7|\n",
            "|   S10_1949|1952 Alpine Renau...|    Classic Cars|        1:10|Classic Metal Cre...|Turnable front wh...|                7305|               98.58|          214.3|\n",
            "|   S10_2016|1996 Moto Guzzi 1...|     Motorcycles|        1:10|Highway 66 Mini C...|Official Moto Guz...|                6625|               68.99|         118.94|\n",
            "|   S10_4698|2003 Harley-David...|     Motorcycles|        1:10|   Red Start Diecast|Model features, o...|                5582|               91.02|         193.66|\n",
            "|   S10_4757| 1972 Alfa Romeo GTA|    Classic Cars|        1:10|Motor City Art Cl...|Features include:...|                3252|               85.68|          136.0|\n",
            "|   S10_4962|1962 LanciaA Delt...|    Classic Cars|        1:10| Second Gear Diecast|Features include:...|                6791|              103.42|         147.74|\n",
            "|   S12_1099|   1968 Ford Mustang|    Classic Cars|        1:12|Autoart Studio De...|Hood, doors and t...|                  68|               95.34|         194.57|\n",
            "|   S12_1108|   2001 Ferrari Enzo|    Classic Cars|        1:12| Second Gear Diecast|Turnable front wh...|                3619|               95.59|          207.8|\n",
            "|   S12_1666|      1958 Setra Bus|Trucks and Buses|        1:12|Welly Diecast Pro...|Model features 30...|                1579|                77.9|         136.67|\n",
            "|   S12_2823|    2002 Suzuki XREO|     Motorcycles|        1:12|Unimax Art Galleries|Official logos an...|                9997|               66.27|         150.62|\n",
            "|   S12_3148|  1969 Corvair Monza|    Classic Cars|        1:18|Welly Diecast Pro...|\"1:18 scale die-c...|          hood opens| trunk opens and ...|           6906|\n",
            "|   S12_3380|  1968 Dodge Charger|    Classic Cars|        1:12|Welly Diecast Pro...|1:12 scale model ...|                9123|               75.16|         117.44|\n",
            "|   S12_3891|    1969 Ford Falcon|    Classic Cars|        1:12| Second Gear Diecast|Turnable front wh...|                1049|               83.05|         173.02|\n",
            "|   S12_3990|1970 Plymouth Hem...|    Classic Cars|        1:12| Studio M Art Models|Very detailed 197...|                5663|               31.92|           79.8|\n",
            "|   S12_4473|   1957 Chevy Pickup|Trucks and Buses|        1:12|       Exoto Designs|\"1:12 scale die-c...|      Rubber wheels\"|                6125|           55.7|\n",
            "|   S12_4675|  1969 Dodge Charger|    Classic Cars|        1:12|Welly Diecast Pro...|Detailed model of...|                7323|               58.73|         115.16|\n",
            "|   S18_1097|1940 Ford Pickup ...|Trucks and Buses|        1:18| Studio M Art Models|This model featur...|                2613|               58.33|         116.67|\n",
            "|   S18_1129|     1993 Mazda RX-7|    Classic Cars|        1:18|Highway 66 Mini C...|This model featur...|                3975|               83.51|         141.54|\n",
            "|   S18_1342|1937 Lincoln Berline|    Vintage Cars|        1:18|Motor City Art Cl...|Features opening ...|                8693|               60.62|         102.74|\n",
            "|   S18_1367|1936 Mercedes-Ben...|    Vintage Cars|        1:18| Studio M Art Models|This 1:18 scale r...|                8635|               24.26|          53.91|\n",
            "|   S18_1589|1965 Aston Martin...|    Classic Cars|        1:18|Classic Metal Cre...|Die-cast model of...|                9042|               65.96|         124.44|\n",
            "|   S18_1662|1980s Black Hawk ...|          Planes|        1:18|   Red Start Diecast|1:18 scale replic...|                5330|               77.27|         157.69|\n",
            "|   S18_1749|1917 Grand Tourin...|    Vintage Cars|        1:18|Welly Diecast Pro...|This 1:18 scale r...|                2724|                86.7|          170.0|\n",
            "|   S18_1889|1948 Porsche 356-...|    Classic Cars|        1:18|Gearbox Collectibles|This precision di...|                8826|                53.9|           77.0|\n",
            "|   S18_1984|    1995 Honda Civic|    Classic Cars|        1:18|     Min Lin Diecast|This model featur...|                9772|               93.89|         142.25|\n",
            "|   S18_2238|1998 Chrysler Ply...|    Classic Cars|        1:18|Gearbox Collectibles|Turnable front wh...|                4724|              101.51|         163.73|\n",
            "|   S18_2248|  1911 Ford Town Car|    Vintage Cars|        1:18|Motor City Art Cl...|Features opening ...|                 540|                33.3|          60.54|\n",
            "|   S18_2319|1964 Mercedes Tou...|Trucks and Buses|        1:18|Unimax Art Galleries|Exact replica. 10...|                8258|               74.86|         122.73|\n",
            "|   S18_2325|1932 Model A Ford...|    Vintage Cars|        1:18|Autoart Studio De...|This model featur...|                9354|               58.48|         127.13|\n",
            "|   S18_2432|1926 Ford Fire En...|Trucks and Buses|        1:18|Carousel DieCast ...|Gleaming red hand...|                2018|               24.92|          60.77|\n",
            "|   S18_2581|      P-51-D Mustang|          Planes|        1:72|Gearbox Collectibles|Has retractable w...|                 992|                49.0|          84.48|\n",
            "|   S18_2625|1936 Harley David...|     Motorcycles|        1:18|Welly Diecast Pro...|Intricately detai...|                4357|               24.23|          60.57|\n",
            "|   S18_2795|1928 Mercedes-Ben...|    Vintage Cars|        1:18|Gearbox Collectibles|This 1:18 replica...|                 548|               72.56|         168.75|\n",
            "|   S18_2870|1999 Indy 500 Mon...|    Classic Cars|        1:18|   Red Start Diecast|Features include ...|                8164|               56.76|          132.0|\n",
            "|   S18_2949|1913 Ford Model T...|    Vintage Cars|        1:18|Carousel DieCast ...|This 250 part rep...|                4189|               60.78|         101.31|\n",
            "|   S18_2957|  1934 Ford V8 Coupe|    Vintage Cars|        1:18|     Min Lin Diecast|Chrome Trim, Chro...|                5649|               34.35|          62.46|\n",
            "|   S18_3029|1999 Yamaha Speed...|           Ships|        1:18|     Min Lin Diecast|Exact replica. Wo...|                4259|               51.61|          86.02|\n",
            "|   S18_3136|18th Century Vint...|    Vintage Cars|        1:18|   Red Start Diecast|Hand crafted diec...|                5992|               60.74|         104.72|\n",
            "|   S18_3140|   1903 Ford Model A|    Vintage Cars|        1:18|Unimax Art Galleries|Features opening ...|                3913|                68.3|         136.59|\n",
            "|   S18_3232|1992 Ferrari 360 ...|    Classic Cars|        1:18|Unimax Art Galleries|his replica featu...|                8347|                77.9|         169.34|\n",
            "|   S18_3233|   1985 Toyota Supra|    Classic Cars|        1:18|Highway 66 Mini C...|This model featur...|                7733|               57.01|         107.57|\n",
            "|   S18_3259|Collectable Woode...|          Trains|        1:18|Carousel DieCast ...|Hand crafted wood...|                6450|               67.56|         100.84|\n",
            "|   S18_3278|1969 Dodge Super Bee|    Classic Cars|        1:18|     Min Lin Diecast|This replica feat...|                1917|               49.05|          80.41|\n",
            "|   S18_3320|1917 Maxwell Tour...|    Vintage Cars|        1:18|       Exoto Designs|Features Gold Tri...|                7913|               57.54|          99.21|\n",
            "|   S18_3482|1976 Ford Gran To...|    Classic Cars|        1:18|Gearbox Collectibles|\"Highly detailed ...|                9127|               73.49|         146.99|\n",
            "|   S18_3685|1948 Porsche Type...|    Classic Cars|        1:18|Gearbox Collectibles|This model featur...|                8990|               62.16|         141.28|\n",
            "|   S18_3782|    1957 Vespa GS150|     Motorcycles|        1:18| Studio M Art Models|Features rotating...|                7689|               32.95|          62.17|\n",
            "|   S18_3856|1941 Chevrolet Sp...|    Vintage Cars|        1:18|       Exoto Designs|Features opening ...|                2378|               64.58|         105.87|\n",
            "|   S18_4027|1970 Triumph Spit...|    Classic Cars|        1:18|     Min Lin Diecast|Features include ...|                5545|               91.92|         143.62|\n",
            "|   S18_4409|1932 Alfa Romeo 8...|    Vintage Cars|        1:18|       Exoto Designs|This 1:18 scale p...|                6553|               43.26|          92.03|\n",
            "|   S18_4522| 1904 Buick Runabout|    Vintage Cars|        1:18|       Exoto Designs|Features opening ...|                8290|               52.66|          87.77|\n",
            "|   S18_4600|    1940s Ford truck|Trucks and Buses|        1:18|Motor City Art Cl...|This 1940s Ford P...|                3128|               84.76|         121.08|\n",
            "|   S18_4668|1939 Cadillac Lim...|    Vintage Cars|        1:18| Studio M Art Models|Features complete...|                6645|               23.14|          50.31|\n",
            "|   S18_4721|1957 Corvette Con...|    Classic Cars|        1:18|Classic Metal Cre...|1957 die cast Cor...|                1249|               69.93|          148.8|\n",
            "|   S18_4933|1957 Ford Thunder...|    Classic Cars|        1:18| Studio M Art Models|This 1:18 scale p...|                3209|               34.21|          71.27|\n",
            "|   S24_1046|1970 Chevy Chevel...|    Classic Cars|        1:24|Unimax Art Galleries|This model featur...|                1005|               49.24|          73.49|\n",
            "|   S24_1444|  1970 Dodge Coronet|    Classic Cars|        1:24|Highway 66 Mini C...|\"1:24 scale die-c...| hood opens and r...|                4074|          32.37|\n",
            "|   S24_1578|   1997 BMW R 1100 S|     Motorcycles|        1:24|Autoart Studio De...|Detailed scale re...|                7003|               60.86|          112.7|\n",
            "|   S24_1628|1966 Shelby Cobra...|    Classic Cars|        1:24|Carousel DieCast ...|This diecast mode...|                8197|               29.18|          50.31|\n",
            "|   S24_1785|1928 British Roya...|          Planes|        1:24|Classic Metal Cre...|Official logos an...|                3627|               66.74|         109.42|\n",
            "|   S24_1937|1939 Chevrolet De...|    Vintage Cars|        1:24|Motor City Art Cl...|This 1:24 scale d...|                7332|               22.57|          33.19|\n",
            "|   S24_2000|1960 BSA Gold Sta...|     Motorcycles|        1:24|Highway 66 Mini C...|Detailed scale re...|                  15|               37.32|          76.17|\n",
            "|   S24_2011|18th century scho...|           Ships|        1:24|Carousel DieCast ...|All wood with can...|                1898|               82.34|         122.89|\n",
            "|   S24_2022|1938 Cadillac V-1...|    Vintage Cars|        1:24|Classic Metal Cre...|This 1:24 scale p...|                2847|               20.61|           44.8|\n",
            "|   S24_2300|1962 Volkswagen M...|Trucks and Buses|        1:24|Autoart Studio De...|This 1:18 scale d...|                2327|               61.34|         127.79|\n",
            "|   S24_2360|1982 Ducati 900 M...|     Motorcycles|        1:24|Highway 66 Mini C...|Features two-tone...|                6840|                47.1|          69.26|\n",
            "|   S24_2766|  1949 Jaguar XK 120|    Classic Cars|        1:24|Classic Metal Cre...|Precision-enginee...|                2350|               47.25|          90.87|\n",
            "|   S24_2840|1958 Chevy Corvet...|    Classic Cars|        1:24|Carousel DieCast ...|The operating par...|                2542|               15.91|          35.36|\n",
            "|   S24_2841|1900s Vintage Bi-...|          Planes|        1:24|Autoart Studio De...|Hand crafted diec...|                5942|               34.25|          68.51|\n",
            "|   S24_2887|   1952 Citroen-15CV|    Classic Cars|        1:24|       Exoto Designs|Precision crafted...|                1452|               72.82|         117.44|\n",
            "|   S24_2972|1982 Lamborghini ...|    Classic Cars|        1:24| Second Gear Diecast|This replica feat...|                7723|               16.24|          37.76|\n",
            "|   S24_3151|1912 Ford Model T...|    Vintage Cars|        1:24|     Min Lin Diecast|This model featur...|                9173|               46.91|          88.51|\n",
            "|   S24_3191|1969 Chevrolet Ca...|    Classic Cars|        1:24|       Exoto Designs|1969 Z/28 Chevy C...|                4695|               50.51|          85.61|\n",
            "|   S24_3371|1971 Alpine Renau...|    Classic Cars|        1:24|Welly Diecast Pro...|This 1971 Alpine ...|                7995|               38.58|          61.23|\n",
            "|   S24_3420|1937 Horch 930V L...|    Vintage Cars|        1:24|Autoart Studio De...|Features opening ...|                2902|                26.3|          65.75|\n",
            "|   S24_3432| 2002 Chevy Corvette|    Classic Cars|        1:24|Gearbox Collectibles|The operating par...|                9446|               62.11|         107.08|\n",
            "|   S24_3816|1940 Ford Deliver...|    Vintage Cars|        1:24|Carousel DieCast ...|Chrome Trim, Chro...|                6621|               48.64|          83.86|\n",
            "|   S24_3856|1956 Porsche 356A...|    Classic Cars|        1:18|Classic Metal Cre...|Features include:...|                6600|                98.3|         140.43|\n",
            "|   S24_3949|Corsair F4U ( Bir...|          Planes|        1:24| Second Gear Diecast|Has retractable w...|                6812|               29.34|          68.24|\n",
            "|   S24_3969|1936 Mercedes Ben...|    Vintage Cars|        1:24|   Red Start Diecast|This model featur...|                2081|               21.75|          41.03|\n",
            "|   S24_4048|1992 Porsche Caye...|    Classic Cars|        1:24|       Exoto Designs|This replica feat...|                6582|               69.78|         118.28|\n",
            "|   S24_4258|1936 Chrysler Air...|    Vintage Cars|        1:24| Second Gear Diecast|Features opening ...|                4710|               57.46|          97.39|\n",
            "|   S24_4278|1900s Vintage Tri...|          Planes|        1:24|Unimax Art Galleries|Hand crafted diec...|                2756|               36.23|          72.45|\n",
            "|   S24_4620|1961 Chevrolet Im...|    Classic Cars|        1:18|Classic Metal Cre...|This 1:18 scale p...|                7869|               32.33|          80.84|\n",
            "|   S32_1268|1980’s GM Manhatt...|Trucks and Buses|        1:32|Motor City Art Cl...|This 1980’s era n...|                5099|               53.93|          96.31|\n",
            "|   S32_1374|    1997 BMW F650 ST|     Motorcycles|        1:32|       Exoto Designs|Features official...|                 178|               66.92|          99.89|\n",
            "|   S32_2206|   1982 Ducati 996 R|     Motorcycles|        1:32|Gearbox Collectibles|Features rotating...|                9241|               24.14|          40.23|\n",
            "|   S32_2509|1954 Greyhound Sc...|Trucks and Buses|        1:32|Classic Metal Cre...|Model features bi...|                2874|               25.98|          54.11|\n",
            "|   S32_3207|1950's Chicago Su...|          Trains|        1:32|Gearbox Collectibles|This streetcar is...|                8601|               26.72|          62.14|\n",
            "|   S32_3522|1996 Peterbilt 37...|Trucks and Buses|        1:32|   Red Start Diecast|This model featur...|                 814|               33.61|          64.64|\n",
            "|   S32_4289|1928 Ford Phaeton...|    Vintage Cars|        1:32|Highway 66 Mini C...|This model featur...|                 136|               33.02|          68.79|\n",
            "|   S32_4485|1974 Ducati 350 M...|     Motorcycles|        1:32| Second Gear Diecast|This model featur...|                3341|               56.13|         102.05|\n",
            "|   S50_1341|1930 Buick Marque...|    Vintage Cars|        1:50| Studio M Art Models|Features opening ...|                7062|               27.06|          43.64|\n",
            "|   S50_1392|Diamond T620 Semi...|Trucks and Buses|        1:50|Highway 66 Mini C...|This limited edit...|                1016|               68.29|         115.75|\n",
            "|   S50_1514|1962 City of Detr...|          Trains|        1:50|Classic Metal Cre...|This streetcar is...|                1645|               37.49|          58.58|\n",
            "|   S50_4713|  2002 Yamaha YZR M1|     Motorcycles|        1:50|Autoart Studio De...|Features rotating...|                 600|               34.17|          81.36|\n",
            "|  S700_1138|The Schooner Blue...|           Ships|       1:700|Autoart Studio De...|All wood with can...|                1897|                34.0|          66.67|\n",
            "|  S700_1691|American Airlines...|          Planes|       1:700|     Min Lin Diecast|Exact replia with...|                5841|               51.15|          91.34|\n",
            "|  S700_1938|       The Mayflower|           Ships|       1:700| Studio M Art Models|Measures 31 1/2 i...|                 737|                43.3|          86.61|\n",
            "|  S700_2047|          HMS Bounty|           Ships|       1:700|Unimax Art Galleries|Measures 30 inche...|                3501|               39.83|          90.52|\n",
            "|  S700_2466|America West Airl...|          Planes|       1:700|Motor City Art Cl...|Official logos an...|                9653|                68.8|          99.72|\n",
            "|  S700_2610|The USS Constitut...|           Ships|       1:700|   Red Start Diecast|\"All wood with ca...|   sea sprite on bow|             anchors| copper railing|\n",
            "|  S700_2824|     1982 Camaro Z28|    Classic Cars|        1:18|Carousel DieCast ...|\"Features include...|                6934|               46.53|         101.15|\n",
            "|  S700_2834|       ATA: B757-300|          Planes|       1:700|Highway 66 Mini C...|Exact replia with...|                7106|               59.33|         118.65|\n",
            "|  S700_3167|  F/A 18 Hornet 1/72|          Planes|        1:72|Motor City Art Cl...|\"10\"\" Wingspan wi...|                 551|                54.4|           80.0|\n",
            "|  S700_3505|         The Titanic|           Ships|       1:700|Carousel DieCast ...|Completed model m...|                1956|               51.09|         100.17|\n",
            "|  S700_3962|      The Queen Mary|           Ships|       1:700|Welly Diecast Pro...|Exact replica. Wo...|                5088|               53.63|          99.31|\n",
            "|  S700_4002|American Airlines...|          Planes|       1:700| Second Gear Diecast|Polished finish. ...|                8820|               36.27|          74.03|\n",
            "|   S72_1253|    Boeing X-32A JSF|          Planes|        1:72|Motor City Art Cl...|\"10\"\" Wingspan wi...|                4857|               32.77|          49.66|\n",
            "|   S72_3212|          Pont Yacht|           Ships|        1:72|Unimax Art Galleries|Measures 38 inche...|                 414|                33.3|           54.6|\n",
            "+-----------+--------------------+----------------+------------+--------------------+--------------------+--------------------+--------------------+---------------+\n",
            "\n"
          ]
        }
      ]
    },
    {
      "cell_type": "code",
      "source": [
        "from pyspark.sql.functions import sum,col\n",
        "products_df.filter(products_df.productLine=='Motorcycles').show()\n",
        "customers_df.groupBy('city').sum('creditLimit').show()\n",
        "customers_df.join(orders_df, customers_df.customerNumber == orders_df.customerNumber).show()"
      ],
      "metadata": {
        "colab": {
          "base_uri": "https://localhost:8080/"
        },
        "id": "VCOQ442gLsXx",
        "outputId": "641e4270-2707-48d5-dcfc-44f97bd0fb7a"
      },
      "execution_count": 9,
      "outputs": [
        {
          "output_type": "stream",
          "name": "stdout",
          "text": [
            "+-----------+--------------------+-----------+------------+--------------------+--------------------+---------------+--------+------+\n",
            "|productCode|         productName|productLine|productScale|       productVendor|  productDescription|quantityInStock|buyPrice|  MSRP|\n",
            "+-----------+--------------------+-----------+------------+--------------------+--------------------+---------------+--------+------+\n",
            "|   S10_1678|1969 Harley David...|Motorcycles|        1:10|     Min Lin Diecast|This replica feat...|           7933|   48.81|  95.7|\n",
            "|   S10_2016|1996 Moto Guzzi 1...|Motorcycles|        1:10|Highway 66 Mini C...|Official Moto Guz...|           6625|   68.99|118.94|\n",
            "|   S10_4698|2003 Harley-David...|Motorcycles|        1:10|   Red Start Diecast|Model features, o...|           5582|   91.02|193.66|\n",
            "|   S12_2823|    2002 Suzuki XREO|Motorcycles|        1:12|Unimax Art Galleries|Official logos an...|           9997|   66.27|150.62|\n",
            "|   S18_2625|1936 Harley David...|Motorcycles|        1:18|Welly Diecast Pro...|Intricately detai...|           4357|   24.23| 60.57|\n",
            "|   S18_3782|    1957 Vespa GS150|Motorcycles|        1:18| Studio M Art Models|Features rotating...|           7689|   32.95| 62.17|\n",
            "|   S24_1578|   1997 BMW R 1100 S|Motorcycles|        1:24|Autoart Studio De...|Detailed scale re...|           7003|   60.86| 112.7|\n",
            "|   S24_2000|1960 BSA Gold Sta...|Motorcycles|        1:24|Highway 66 Mini C...|Detailed scale re...|             15|   37.32| 76.17|\n",
            "|   S24_2360|1982 Ducati 900 M...|Motorcycles|        1:24|Highway 66 Mini C...|Features two-tone...|           6840|    47.1| 69.26|\n",
            "|   S32_1374|    1997 BMW F650 ST|Motorcycles|        1:32|       Exoto Designs|Features official...|            178|   66.92| 99.89|\n",
            "|   S32_2206|   1982 Ducati 996 R|Motorcycles|        1:32|Gearbox Collectibles|Features rotating...|           9241|   24.14| 40.23|\n",
            "|   S32_4485|1974 Ducati 350 M...|Motorcycles|        1:32| Second Gear Diecast|This model featur...|           3341|   56.13|102.05|\n",
            "|   S50_4713|  2002 Yamaha YZR M1|Motorcycles|        1:50|Autoart Studio De...|Features rotating...|            600|   34.17| 81.36|\n",
            "+-----------+--------------------+-----------+------------+--------------------+--------------------+---------------+--------+------+\n",
            "\n",
            "+------------+----------------+\n",
            "|        city|sum(creditLimit)|\n",
            "+------------+----------------+\n",
            "|  Wellington|         86800.0|\n",
            "|   Minato-ku|         94400.0|\n",
            "|    Salzburg|         71700.0|\n",
            "|      Madrid|        391800.0|\n",
            "|       Århus|        120800.0|\n",
            "|   Allentown|        100600.0|\n",
            "|     Kita-ku|         81200.0|\n",
            "|White Plains|        102700.0|\n",
            "|   Singapore|        201700.0|\n",
            "|  Manchester|        136800.0|\n",
            "|   Cunewalde|             0.0|\n",
            "|   Frankfurt|         59700.0|\n",
            "|  Brickhaven|        162400.0|\n",
            "|        Bern|             0.0|\n",
            "|  Auckland  |        198000.0|\n",
            "|Philadelphia|        153700.0|\n",
            "|      Genève|        141300.0|\n",
            "|    Auckland|         77700.0|\n",
            "|     Stavern|         81700.0|\n",
            "| Los Angeles|         57700.0|\n",
            "+------------+----------------+\n",
            "only showing top 20 rows\n",
            "\n",
            "+--------------+--------------------+---------------+----------------+-----------------+--------------------+--------------------+-------------+-----+----------+-----------+----------------------+-----------+-----------+-------------------+-------------------+-------------------+-------+--------------------+--------------+\n",
            "|customerNumber|        customerName|contactLastName|contactFirstName|            phone|        addressLine1|        addressLine2|         city|state|postalCode|    country|salesRepEmployeeNumber|creditLimit|orderNumber|          orderDate|       requiredDate|        shippedDate| status|            comments|customerNumber|\n",
            "+--------------+--------------------+---------------+----------------+-----------------+--------------------+--------------------+-------------+-----+----------+-----------+----------------------+-----------+-----------+-------------------+-------------------+-------------------+-------+--------------------+--------------+\n",
            "|           363|Online Diecast Cr...|          Young|         Dorothy|       6035558647|2304 Long Airport...|                null|       Nashua|   NH|     62005|        USA|                1216.0|   114200.0|      10100|2003-01-06 00:00:00|2003-01-13 00:00:00|2003-01-10 00:00:00|Shipped|                null|           363|\n",
            "|           128|Blauer See Auto, Co.|         Keitel|          Roland|+49 69 66 90 2555|       Lyonerstr. 34|                null|    Frankfurt| null|     60528|    Germany|                1504.0|    59700.0|      10101|2003-01-09 00:00:00|2003-01-18 00:00:00|2003-01-11 00:00:00|Shipped|Check on availabi...|           128|\n",
            "|           181|     Vitachrome Inc.|          Frick|         Michael|       2125551500|   2678 Kingston Rd.|           Suite 101|          NYC|   NY|     10022|        USA|                1286.0|    76400.0|      10102|2003-01-10 00:00:00|2003-01-18 00:00:00|2003-01-14 00:00:00|Shipped|                null|           181|\n",
            "|           121|  Baane Mini Imports|     Bergulfsen|          Jonas |       07-98 9555|Erling Skakkes ga...|                null|      Stavern| null|      4110|     Norway|                1504.0|    81700.0|      10103|2003-01-29 00:00:00|2003-02-07 00:00:00|2003-02-02 00:00:00|Shipped|                null|           121|\n",
            "|           141|Euro+ Shopping Ch...|         Freyre|          Diego |   (91) 555 94 44|  C/ Moralzarzal, 86|                null|       Madrid| null|     28034|      Spain|                1370.0|   227600.0|      10104|2003-01-31 00:00:00|2003-02-09 00:00:00|2003-02-01 00:00:00|Shipped|                null|           141|\n",
            "|           145|Danish Wholesale ...|       Petersen|          Jytte |       31 12 3555|        Vinbæltet 34|                null|    Kobenhavn| null|      1734|    Denmark|                1401.0|    83400.0|      10105|2003-02-11 00:00:00|2003-02-21 00:00:00|2003-02-12 00:00:00|Shipped|                null|           145|\n",
            "|           278|       Rovelli Gifts|        Rovelli|       Giovanni |       035-640555|Via Ludovico il M...|                null|      Bergamo| null|     24100|      Italy|                1401.0|   119600.0|      10106|2003-02-17 00:00:00|2003-02-24 00:00:00|2003-02-21 00:00:00|Shipped|                null|           278|\n",
            "|           131|   Land of Toys Inc.|            Lee|            Kwai|       2125557818|897 Long Airport ...|                null|          NYC|   NY|     10022|        USA|                1323.0|   114900.0|      10107|2003-02-24 00:00:00|2003-03-03 00:00:00|2003-02-26 00:00:00|Shipped|Difficult to nego...|           131|\n",
            "|           385|     Cruz & Sons Co.|           Cruz|          Arnold|   +63 2 555 3587|  15 McCallum Street|NatWest Center #1...|  Makati City| null|   1227 MM|Philippines|                1621.0|    81500.0|      10108|2003-03-03 00:00:00|2003-03-12 00:00:00|2003-03-08 00:00:00|Shipped|                null|           385|\n",
            "|           486|Motor Mint Distri...|        Salazar|            Rosa|       2155559857|   11328 Douglas Av.|                null| Philadelphia|   PA|     71270|        USA|                1323.0|    72600.0|      10109|2003-03-10 00:00:00|2003-03-19 00:00:00|2003-03-11 00:00:00|Shipped|Customer requeste...|           486|\n",
            "|           187|      AV Stores, Co.|       Ashworth|          Rachel|   (171) 555-1555|   Fauntleroy Circus|                null|   Manchester| null|   EC2 5NT|         UK|                1501.0|   136800.0|      10110|2003-03-18 00:00:00|2003-03-24 00:00:00|2003-03-20 00:00:00|Shipped|                null|           187|\n",
            "|           129|     Mini Wheels Co.|         Murphy|           Julie|       6505555787|5557 North Pendal...|                null|San Francisco|   CA|     94217|        USA|                1165.0|    64600.0|      10111|2003-03-25 00:00:00|2003-03-31 00:00:00|2003-03-30 00:00:00|Shipped|                null|           129|\n",
            "|           144|Volvo Model Repli...|       Berglund|      Christina |     0921-12 3555|     Berguvsvägen  8|                null|        Luleå| null|  S-958 22|     Sweden|                1504.0|    53100.0|      10112|2003-03-24 00:00:00|2003-04-03 00:00:00|2003-03-29 00:00:00|Shipped|Customer requeste...|           144|\n",
            "|           124|Mini Gifts Distri...|         Nelson|           Susan|       4155551450|     5677 Strong St.|                null|   San Rafael|   CA|     97562|        USA|                1165.0|   210500.0|      10113|2003-03-26 00:00:00|2003-04-02 00:00:00|2003-03-27 00:00:00|Shipped|                null|           124|\n",
            "|           172|La Corne D'abonda...|       Bertrand|           Marie|   (1) 42.34.2555|265, boulevard Ch...|                null|        Paris| null|     75012|     France|                1337.0|    84300.0|      10114|2003-04-01 00:00:00|2003-04-07 00:00:00|2003-04-02 00:00:00|Shipped|                null|           172|\n",
            "|           424|Classic Legends Inc.|      Hernandez|           Maria|       2125558493|    5905 Pompton St.|           Suite 750|          NYC|   NY|     10022|        USA|                1286.0|    67500.0|      10115|2003-04-04 00:00:00|2003-04-12 00:00:00|2003-04-07 00:00:00|Shipped|                null|           424|\n",
            "|           381|        Royale Belge|       Cartrain|        Pascale | (071) 23 67 2555|Boulevard Tirou, 255|                null|    Charleroi| null|    B-6000|    Belgium|                1401.0|    23500.0|      10116|2003-04-11 00:00:00|2003-04-19 00:00:00|2003-04-13 00:00:00|Shipped|                null|           381|\n",
            "|           148|Dragon Souveniers...|      Natividad|            Eric|     +65 221 7555|          Bronz Sok.|Bronz Apt. 3/6 Te...|    Singapore| null|    079903|  Singapore|                1621.0|   103800.0|      10117|2003-04-16 00:00:00|2003-04-24 00:00:00|2003-04-17 00:00:00|Shipped|                null|           148|\n",
            "|           216|  Enaco Distributors|       Saavedra|        Eduardo |    (93) 203 4555|Rambla de Cataluñ...|                null|    Barcelona| null|     08022|      Spain|                1702.0|    60300.0|      10118|2003-04-21 00:00:00|2003-04-29 00:00:00|2003-04-26 00:00:00|Shipped|Customer has work...|           216|\n",
            "|           382|Salzburg Collecta...|          Pipps|          Georg |        6562-9555|         Geislweg 14|                null|     Salzburg| null|      5020|    Austria|                1401.0|    71700.0|      10119|2003-04-28 00:00:00|2003-05-05 00:00:00|2003-05-02 00:00:00|Shipped|                null|           382|\n",
            "+--------------+--------------------+---------------+----------------+-----------------+--------------------+--------------------+-------------+-----+----------+-----------+----------------------+-----------+-----------+-------------------+-------------------+-------------------+-------+--------------------+--------------+\n",
            "only showing top 20 rows\n",
            "\n"
          ]
        }
      ]
    },
    {
      "cell_type": "markdown",
      "source": [
        "## 3. Data Transformations and Aggregations"
      ],
      "metadata": {
        "id": "gL0L5xP3L14h"
      }
    },
    {
      "cell_type": "code",
      "source": [
        "joined_df = od_df.join(orders_df,orders_df.orderNumber == od_df.orderNumber)\n",
        "joined_df=joined_df.withColumn(\"Total\",col('quantityOrdered')*col('priceEach'))\n",
        "tot_cus=joined_df.groupBy('customerNumber').sum('Total')\n",
        "tot_cus.show()"
      ],
      "metadata": {
        "colab": {
          "base_uri": "https://localhost:8080/"
        },
        "id": "DzrEfSvJLwcp",
        "outputId": "09603bd3-8997-49f8-c7b5-b26bc8acd25c"
      },
      "execution_count": 10,
      "outputs": [
        {
          "output_type": "stream",
          "name": "stdout",
          "text": [
            "+--------------+------------------+\n",
            "|customerNumber|        sum(Total)|\n",
            "+--------------+------------------+\n",
            "|           148|         156251.03|\n",
            "|           496|         137460.79|\n",
            "|           471|          55866.02|\n",
            "|           458|112440.08999999998|\n",
            "|           321|132340.77999999997|\n",
            "|           362|          84340.32|\n",
            "|           211| 45480.78999999999|\n",
            "|           385| 87468.29999999999|\n",
            "|           406| 86436.96999999999|\n",
            "|           412| 90332.37999999996|\n",
            "|           103|          22314.36|\n",
            "|           350|          71547.53|\n",
            "|           333|          55190.16|\n",
            "|           128|          75937.76|\n",
            "|           209|          75859.32|\n",
            "|           319| 78432.16000000002|\n",
            "|           233|          68977.67|\n",
            "|           157|         104358.69|\n",
            "|           177|62361.219999999994|\n",
            "|           353|126983.18999999997|\n",
            "+--------------+------------------+\n",
            "only showing top 20 rows\n",
            "\n"
          ]
        }
      ]
    },
    {
      "cell_type": "code",
      "source": [
        "from pyspark.sql.functions import min\n",
        "from pyspark.sql.types import IntegerType\n",
        "\n",
        "# Try converting 'quantityInStock' to Integer; invalid entries will become null\n",
        "df = products_df.withColumn(\"quantityInStock\", col(\"quantityInStock\").cast(IntegerType()))\n",
        "\n",
        "# Drop rows where conversion failed (non-numeric entries)\n",
        "df_cleaned = df.filter(col(\"quantityInStock\").isNotNull())\n",
        "\n",
        "prod_low=df_cleaned.groupBy('productLine').min('quantityInStock')\n",
        "prod_low.show()"
      ],
      "metadata": {
        "colab": {
          "base_uri": "https://localhost:8080/"
        },
        "id": "CCi_J7OhL7QB",
        "outputId": "b8f86021-c8c9-44e4-abb1-bfb69a439f12"
      },
      "execution_count": 11,
      "outputs": [
        {
          "output_type": "stream",
          "name": "stdout",
          "text": [
            "+----------------+--------------------+\n",
            "|     productLine|min(quantityInStock)|\n",
            "+----------------+--------------------+\n",
            "|     Motorcycles|                  15|\n",
            "|    Vintage Cars|                 136|\n",
            "|           Ships|                 414|\n",
            "|Trucks and Buses|                 814|\n",
            "|    Classic Cars|                  68|\n",
            "|          Trains|                1645|\n",
            "|          Planes|                 551|\n",
            "+----------------+--------------------+\n",
            "\n"
          ]
        }
      ]
    },
    {
      "cell_type": "code",
      "source": [
        "top_5=payments_df.groupBy('customerNumber').sum('amount').orderBy('sum(amount)',ascending=False)\n",
        "top_5.show()"
      ],
      "metadata": {
        "colab": {
          "base_uri": "https://localhost:8080/"
        },
        "id": "ZBznvhgjMAOx",
        "outputId": "e120402c-f8b7-436f-a26f-3b555821e346"
      },
      "execution_count": 12,
      "outputs": [
        {
          "output_type": "stream",
          "name": "stdout",
          "text": [
            "+--------------+------------------+\n",
            "|customerNumber|       sum(amount)|\n",
            "+--------------+------------------+\n",
            "|           141| 715738.9800000001|\n",
            "|           124| 584188.2400000001|\n",
            "|           114|180585.06999999998|\n",
            "|           151|         177913.95|\n",
            "|           148|         156251.03|\n",
            "|           323|154622.08000000002|\n",
            "|           187|         148410.09|\n",
            "|           276|         137034.22|\n",
            "|           321|         132340.78|\n",
            "|           146|         130305.35|\n",
            "|           278|         127529.69|\n",
            "|           353|         126983.19|\n",
            "|           119|116949.68000000001|\n",
            "|           363|116449.29000000001|\n",
            "|           496|         114497.19|\n",
            "|           458|         112440.09|\n",
            "|           298|         108777.92|\n",
            "|           131|         107639.94|\n",
            "|           145|          107446.5|\n",
            "|           398|         105548.73|\n",
            "+--------------+------------------+\n",
            "only showing top 20 rows\n",
            "\n"
          ]
        }
      ]
    },
    {
      "cell_type": "code",
      "source": [
        "from pyspark.sql.functions import month, year, count\n",
        "from pyspark.sql.window import Window\n",
        "\n",
        "orders_df = orders_df.withColumn(\"orderMonth\", month(\"orderDate\")).withColumn(\"orderYear\", year(\"orderDate\"))\n",
        "monthly_trend = orders_df.groupBy(\"orderYear\", \"orderMonth\").agg(count(\"*\").alias(\"orderCount\"))\n",
        "monthly_trend.orderBy(\"orderYear\", \"orderMonth\").show()\n"
      ],
      "metadata": {
        "colab": {
          "base_uri": "https://localhost:8080/"
        },
        "id": "MSJO9UnLMDc-",
        "outputId": "8f69efdd-3187-4fd9-d14a-a0edd2099d01"
      },
      "execution_count": 13,
      "outputs": [
        {
          "output_type": "stream",
          "name": "stdout",
          "text": [
            "+---------+----------+----------+\n",
            "|orderYear|orderMonth|orderCount|\n",
            "+---------+----------+----------+\n",
            "|     2003|         1|         5|\n",
            "|     2003|         2|         3|\n",
            "|     2003|         3|         6|\n",
            "|     2003|         4|         7|\n",
            "|     2003|         5|         6|\n",
            "|     2003|         6|         7|\n",
            "|     2003|         7|         7|\n",
            "|     2003|         8|         5|\n",
            "|     2003|         9|         8|\n",
            "|     2003|        10|        18|\n",
            "|     2003|        11|        30|\n",
            "|     2003|        12|         9|\n",
            "|     2004|         1|         8|\n",
            "|     2004|         2|        11|\n",
            "|     2004|         3|         8|\n",
            "|     2004|         4|        10|\n",
            "|     2004|         5|         8|\n",
            "|     2004|         6|        12|\n",
            "|     2004|         7|        11|\n",
            "|     2004|         8|        12|\n",
            "+---------+----------+----------+\n",
            "only showing top 20 rows\n",
            "\n"
          ]
        }
      ]
    },
    {
      "cell_type": "code",
      "source": [
        "products_df.createOrReplaceTempView(\"products\")\n",
        "orders_df.createOrReplaceTempView(\"orders\")\n",
        "od_df.createOrReplaceTempView(\"orderdetails\")\n",
        "payments_df.createOrReplaceTempView(\"payments\")\n",
        "customers_df.createOrReplaceTempView(\"customers\")\n",
        "\n",
        "spark.sql(\"\"\"\n",
        "    SELECT c.customerName, SUM(od.quantityOrdered * od.priceEach) as totalOrder\n",
        "    FROM customers c\n",
        "    JOIN orders o ON c.customerNumber = o.customerNumber\n",
        "    JOIN orderdetails od ON o.orderNumber = od.orderNumber\n",
        "    GROUP BY c.customerName\n",
        "    ORDER BY totalOrder DESC\n",
        "\"\"\").show()\n"
      ],
      "metadata": {
        "colab": {
          "base_uri": "https://localhost:8080/"
        },
        "id": "nLC6fd-zMHLY",
        "outputId": "a2707f30-64ea-4050-9d54-6afc774bb1e9"
      },
      "execution_count": 14,
      "outputs": [
        {
          "output_type": "stream",
          "name": "stdout",
          "text": [
            "+--------------------+------------------+\n",
            "|        customerName|        totalOrder|\n",
            "+--------------------+------------------+\n",
            "|Euro+ Shopping Ch...| 820689.5399999995|\n",
            "|Mini Gifts Distri...|         591827.34|\n",
            "|Australian Collec...|180585.06999999998|\n",
            "|  Muscle Machine Inc|177913.95000000007|\n",
            "|   La Rochelle Gifts|         158573.12|\n",
            "|Dragon Souveniers...|         156251.03|\n",
            "|Down Under Souven...|154622.08000000002|\n",
            "|   Land of Toys Inc.|         149085.15|\n",
            "|      AV Stores, Co.|148410.09000000003|\n",
            "|The Sharp Gifts W...|         143536.27|\n",
            "|Salzburg Collecta...|137480.07000000004|\n",
            "|   Kelly's Gift Shop|137460.78999999995|\n",
            "|Anna's Decoration...|         137034.22|\n",
            "|Souveniers And Th...|133907.12000000002|\n",
            "|Corporate Gift Id...|132340.77999999997|\n",
            "|Saveley & Henriot...|130305.34999999998|\n",
            "|Danish Wholesale ...|129085.12000000001|\n",
            "|       Rovelli Gifts|         127529.69|\n",
            "|  Reims Collectables|126983.18999999997|\n",
            "| L'ordine Souveniers|125505.56999999999|\n",
            "+--------------------+------------------+\n",
            "only showing top 20 rows\n",
            "\n"
          ]
        }
      ]
    },
    {
      "cell_type": "markdown",
      "source": [
        "##4. Data Export and GitHub Submission"
      ],
      "metadata": {
        "id": "B2cHSYFCMUj1"
      }
    },
    {
      "cell_type": "code",
      "source": [
        "top_5.coalesce(1).write.csv(\"output/top_customers\", header=True,mode='overwrite')\n",
        "monthly_trend.coalesce(1).write.csv(\"output/monthly_trends\", header=True,mode='overwrite')\n",
        "tot_cus.coalesce(1).write.csv(\"output/order_value_by_customer\", header=True,mode='overwrite')\n",
        "prod_low.coalesce(1).write.csv(\"output/lowest_stock_product.csv\",header=True,mode='overwrite')"
      ],
      "metadata": {
        "id": "BESQGqPTMNo6"
      },
      "execution_count": 15,
      "outputs": []
    },
    {
      "cell_type": "markdown",
      "source": [
        "##5. Advanced SQL Queries"
      ],
      "metadata": {
        "id": "fKSRwqmeMb2N"
      }
    },
    {
      "cell_type": "code",
      "source": [
        "most_ordered=joined_df.groupBy('productCode').sum('quantityOrdered')\n",
        "most_order=joined_df.groupBy('productCode').sum('Total')\n",
        "most_ordered.join(most_order,on='productCode').show()\n"
      ],
      "metadata": {
        "colab": {
          "base_uri": "https://localhost:8080/"
        },
        "id": "tER4vb1rMXnX",
        "outputId": "b1a66c66-7fe0-4d95-b09f-38c9bd5539fe"
      },
      "execution_count": 16,
      "outputs": [
        {
          "output_type": "stream",
          "name": "stdout",
          "text": [
            "+-----------+--------------------+------------------+\n",
            "|productCode|sum(quantityOrdered)|        sum(Total)|\n",
            "+-----------+--------------------+------------------+\n",
            "|   S18_4600|                1061|114232.79000000001|\n",
            "|   S18_1749|                 918|140535.60000000003|\n",
            "|   S18_2248|                 832|45306.770000000004|\n",
            "|   S12_3891|                 965|         152543.02|\n",
            "|  S700_1138|                 934|          56455.11|\n",
            "|   S32_1268|                 911| 78067.81999999999|\n",
            "|   S18_2795|                 880|132275.97999999998|\n",
            "|   S12_1099|                 933|161531.47999999992|\n",
            "|   S24_1937|                 937|          28052.94|\n",
            "|   S32_3522|                 988|          57282.49|\n",
            "|   S18_1097|                 999|105563.12000000001|\n",
            "|   S18_1662|                1040|144959.90999999997|\n",
            "|   S12_1666|                 972|119085.24999999999|\n",
            "|   S24_3969|                 824|          29763.39|\n",
            "|   S24_4048|                 867|           92973.4|\n",
            "|   S24_1578|                1033|105266.64000000001|\n",
            "|   S18_3320|                 992| 87637.62999999999|\n",
            "|   S24_3816|                 923| 71208.18000000001|\n",
            "|   S18_3136|                 907| 85328.56999999998|\n",
            "|   S32_2509|                 955| 46519.04999999998|\n",
            "+-----------+--------------------+------------------+\n",
            "only showing top 20 rows\n",
            "\n"
          ]
        }
      ]
    },
    {
      "cell_type": "code",
      "source": [
        "payments_df.show()"
      ],
      "metadata": {
        "colab": {
          "base_uri": "https://localhost:8080/"
        },
        "id": "rjKvgzH-MexN",
        "outputId": "b1f8eb2c-4095-414c-e3e3-1a65542d4e32"
      },
      "execution_count": 17,
      "outputs": [
        {
          "output_type": "stream",
          "name": "stdout",
          "text": [
            "+--------------+-----------+-------------------+---------+\n",
            "|customerNumber|checkNumber|        paymentDate|   amount|\n",
            "+--------------+-----------+-------------------+---------+\n",
            "|           103|   HQ336336|2004-10-19 00:00:00|  6066.78|\n",
            "|           103|   JM555205|2003-06-05 00:00:00| 14571.44|\n",
            "|           103|   OM314933|2004-12-18 00:00:00|  1676.14|\n",
            "|           112|   BO864823|2004-12-17 00:00:00| 14191.12|\n",
            "|           112|    HQ55022|2003-06-06 00:00:00| 32641.98|\n",
            "|           112|   ND748579|2004-08-20 00:00:00| 33347.88|\n",
            "|           114|    GG31455|2003-05-20 00:00:00| 45864.03|\n",
            "|           114|   MA765515|2004-12-15 00:00:00| 82261.22|\n",
            "|           114|   NP603840|2003-05-31 00:00:00|  7565.08|\n",
            "|           114|    NR27552|2004-03-10 00:00:00| 44894.74|\n",
            "|           119|   DB933704|2004-11-14 00:00:00| 19501.82|\n",
            "|           119|   LN373447|2004-08-08 00:00:00| 47924.19|\n",
            "|           119|    NG94694|2005-02-22 00:00:00| 49523.67|\n",
            "|           121|   DB889831|2003-02-16 00:00:00| 50218.95|\n",
            "|           121|   FD317790|2003-10-28 00:00:00|  1491.38|\n",
            "|           121|   KI831359|2004-11-04 00:00:00| 17876.32|\n",
            "|           121|   MA302151|2004-11-28 00:00:00| 34638.14|\n",
            "|           124|   AE215433|2005-03-05 00:00:00|101244.59|\n",
            "|           124|   BG255406|2004-08-28 00:00:00| 85410.87|\n",
            "|           124|   CQ287967|2003-04-11 00:00:00|  11044.3|\n",
            "+--------------+-----------+-------------------+---------+\n",
            "only showing top 20 rows\n",
            "\n"
          ]
        }
      ]
    },
    {
      "cell_type": "code",
      "source": [
        "joined_df = pl_df.alias(\"pl\") \\\n",
        "    .join(products_df.alias(\"p\"), col(\"pl.productLine\") == col(\"p.productLine\")) \\\n",
        "    .join(od_df.alias(\"od\"), col(\"p.productCode\") == col(\"od.productCode\")) \\\n",
        "    .join(orders_df.alias(\"o\"), col(\"od.orderNumber\") == col(\"o.orderNumber\")) \\\n",
        "    .join(customers_df.alias(\"c\"), col(\"o.customerNumber\") == col(\"c.customerNumber\")) \\\n",
        "    .select(\n",
        "        col(\"pl.productLine\"),\n",
        "        col(\"p.productName\"),\n",
        "        col(\"od.quantityOrdered\"),\n",
        "        col(\"o.orderDate\"),\n",
        "        col(\"c.customerName\")\n",
        "    )\n",
        "joined_df.show()"
      ],
      "metadata": {
        "colab": {
          "base_uri": "https://localhost:8080/"
        },
        "id": "Ofy3vP_LMjNY",
        "outputId": "ae0b0f7e-949b-41f1-86f0-d389a291907d"
      },
      "execution_count": 18,
      "outputs": [
        {
          "output_type": "stream",
          "name": "stdout",
          "text": [
            "+-----------+--------------------+---------------+-------------------+--------------------+\n",
            "|productLine|         productName|quantityOrdered|          orderDate|        customerName|\n",
            "+-----------+--------------------+---------------+-------------------+--------------------+\n",
            "|Motorcycles|1969 Harley David...|             66|2005-05-13 00:00:00|Euro+ Shopping Ch...|\n",
            "|Motorcycles|1969 Harley David...|             24|2005-04-08 00:00:00|UK Collectables, ...|\n",
            "|Motorcycles|1969 Harley David...|             40|2005-04-01 00:00:00|   Kelly's Gift Shop|\n",
            "|Motorcycles|1969 Harley David...|             42|2005-03-03 00:00:00|    FunGiftIdeas.com|\n",
            "|Motorcycles|1969 Harley David...|             21|2005-02-03 00:00:00|   La Rochelle Gifts|\n",
            "|Motorcycles|1969 Harley David...|             20|2004-12-17 00:00:00|Souveniers And Th...|\n",
            "|Motorcycles|1969 Harley David...|             42|2004-12-04 00:00:00|Down Under Souven...|\n",
            "|Motorcycles|1969 Harley David...|             41|2004-11-24 00:00:00|Salzburg Collecta...|\n",
            "|Motorcycles|1969 Harley David...|             42|2004-11-15 00:00:00|   Land of Toys Inc.|\n",
            "|Motorcycles|1969 Harley David...|             46|2004-11-02 00:00:00|Diecast Classics ...|\n",
            "|Motorcycles|1969 Harley David...|             41|2004-10-15 00:00:00|  Baane Mini Imports|\n",
            "|Motorcycles|1969 Harley David...|             23|2004-09-30 00:00:00|Toys of Finland, Co.|\n",
            "|Motorcycles|1969 Harley David...|             36|2004-08-27 00:00:00|Marta's Replicas Co.|\n",
            "|Motorcycles|1969 Harley David...|             45|2004-07-23 00:00:00|   La Rochelle Gifts|\n",
            "|Motorcycles|1969 Harley David...|             34|2004-06-28 00:00:00|     Gift Depot Inc.|\n",
            "|Motorcycles|1969 Harley David...|             59|2004-05-18 00:00:00|Tekni Collectable...|\n",
            "|Motorcycles|1969 Harley David...|             23|2004-04-05 00:00:00|     Vitachrome Inc.|\n",
            "|Motorcycles|1969 Harley David...|             37|2004-02-20 00:00:00|Australian Collec...|\n",
            "|Motorcycles|1969 Harley David...|             41|2004-01-15 00:00:00|   Auto Canal+ Petit|\n",
            "|Motorcycles|1969 Harley David...|             22|2003-12-01 00:00:00|     Mini Wheels Co.|\n",
            "+-----------+--------------------+---------------+-------------------+--------------------+\n",
            "only showing top 20 rows\n",
            "\n"
          ]
        }
      ]
    },
    {
      "cell_type": "markdown",
      "source": [
        "##6. Architecture and Documentation"
      ],
      "metadata": {
        "id": "nbN8k32kMzRv"
      }
    },
    {
      "cell_type": "code",
      "source": [
        "#. CSV Data → PySpark DataFrame → SQL Views → Aggregations & Joins → Export CSV → GitHub"
      ],
      "metadata": {
        "id": "jgMpl2L0MnEc"
      },
      "execution_count": null,
      "outputs": []
    }
  ]
}